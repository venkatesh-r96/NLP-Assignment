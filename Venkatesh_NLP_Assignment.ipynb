{
  "nbformat": 4,
  "nbformat_minor": 0,
  "metadata": {
    "colab": {
      "provenance": [],
      "authorship_tag": "ABX9TyOoAX+hmNZ9kBW5+c96Qfjo",
      "include_colab_link": true
    },
    "kernelspec": {
      "name": "python3",
      "display_name": "Python 3"
    },
    "language_info": {
      "name": "python"
    }
  },
  "cells": [
    {
      "cell_type": "markdown",
      "metadata": {
        "id": "view-in-github",
        "colab_type": "text"
      },
      "source": [
        "<a href=\"https://colab.research.google.com/github/venkatesh-r96/NLP-Assignment/blob/main/Venkatesh_NLP_Assignment.ipynb\" target=\"_parent\"><img src=\"https://colab.research.google.com/assets/colab-badge.svg\" alt=\"Open In Colab\"/></a>"
      ]
    },
    {
      "cell_type": "markdown",
      "source": [
        "# **NLP ASSIGNMENT**"
      ],
      "metadata": {
        "id": "UosyRAjhfTxY"
      }
    },
    {
      "cell_type": "markdown",
      "source": [
        "# OBJECTIVE\n"
      ],
      "metadata": {
        "id": "p-Z7cggmd4WR"
      }
    },
    {
      "cell_type": "markdown",
      "source": [
        "Automatically generate ojbective questions with multiple correct answers based on a given chapter from a subject."
      ],
      "metadata": {
        "id": "qJYXgMp7d4TX"
      }
    },
    {
      "cell_type": "code",
      "source": [
        "# Installing the required Packages\n",
        "!pip install tiktoken"
      ],
      "metadata": {
        "id": "3Ys1WWksfJUu"
      },
      "execution_count": null,
      "outputs": []
    },
    {
      "cell_type": "code",
      "execution_count": null,
      "metadata": {
        "id": "MXhZhlaXdrO1"
      },
      "outputs": [],
      "source": [
        "!pip install sentence_transformers"
      ]
    },
    {
      "cell_type": "code",
      "source": [
        "# For reading PDF files\n",
        "!pip install PyPDF2"
      ],
      "metadata": {
        "colab": {
          "base_uri": "https://localhost:8080/"
        },
        "id": "NSy9bXXLgAft",
        "outputId": "24e63a3a-36d6-4983-f338-1bfab0cfcefc"
      },
      "execution_count": null,
      "outputs": [
        {
          "output_type": "stream",
          "name": "stdout",
          "text": [
            "Requirement already satisfied: PyPDF2 in /usr/local/lib/python3.10/dist-packages (3.0.1)\n"
          ]
        }
      ]
    },
    {
      "cell_type": "code",
      "source": [
        "# we are giving the solution through openai\n",
        "!pip install openai"
      ],
      "metadata": {
        "colab": {
          "base_uri": "https://localhost:8080/"
        },
        "id": "NQVCh8ClgGzT",
        "outputId": "655cf2fc-4904-4904-ef3a-8a3f6da42703"
      },
      "execution_count": null,
      "outputs": [
        {
          "output_type": "stream",
          "name": "stdout",
          "text": [
            "Requirement already satisfied: openai in /usr/local/lib/python3.10/dist-packages (0.27.8)\n",
            "Requirement already satisfied: requests>=2.20 in /usr/local/lib/python3.10/dist-packages (from openai) (2.27.1)\n",
            "Requirement already satisfied: tqdm in /usr/local/lib/python3.10/dist-packages (from openai) (4.65.0)\n",
            "Requirement already satisfied: aiohttp in /usr/local/lib/python3.10/dist-packages (from openai) (3.8.5)\n",
            "Requirement already satisfied: urllib3<1.27,>=1.21.1 in /usr/local/lib/python3.10/dist-packages (from requests>=2.20->openai) (1.26.16)\n",
            "Requirement already satisfied: certifi>=2017.4.17 in /usr/local/lib/python3.10/dist-packages (from requests>=2.20->openai) (2023.7.22)\n",
            "Requirement already satisfied: charset-normalizer~=2.0.0 in /usr/local/lib/python3.10/dist-packages (from requests>=2.20->openai) (2.0.12)\n",
            "Requirement already satisfied: idna<4,>=2.5 in /usr/local/lib/python3.10/dist-packages (from requests>=2.20->openai) (3.4)\n",
            "Requirement already satisfied: attrs>=17.3.0 in /usr/local/lib/python3.10/dist-packages (from aiohttp->openai) (23.1.0)\n",
            "Requirement already satisfied: multidict<7.0,>=4.5 in /usr/local/lib/python3.10/dist-packages (from aiohttp->openai) (6.0.4)\n",
            "Requirement already satisfied: async-timeout<5.0,>=4.0.0a3 in /usr/local/lib/python3.10/dist-packages (from aiohttp->openai) (4.0.2)\n",
            "Requirement already satisfied: yarl<2.0,>=1.0 in /usr/local/lib/python3.10/dist-packages (from aiohttp->openai) (1.9.2)\n",
            "Requirement already satisfied: frozenlist>=1.1.1 in /usr/local/lib/python3.10/dist-packages (from aiohttp->openai) (1.4.0)\n",
            "Requirement already satisfied: aiosignal>=1.1.2 in /usr/local/lib/python3.10/dist-packages (from aiohttp->openai) (1.3.1)\n"
          ]
        }
      ]
    },
    {
      "cell_type": "code",
      "source": [
        "# Finding the solution through google palm also\n",
        "!pip install -q google-generativeai"
      ],
      "metadata": {
        "id": "1a06yZUqgZSY"
      },
      "execution_count": null,
      "outputs": []
    },
    {
      "cell_type": "code",
      "source": [
        "#Importing the required packages\n",
        "import os\n",
        "import nltk\n",
        "import torch\n",
        "from sentence_transformers import SentenceTransformer, util\n",
        "import textwrap\n",
        "import PyPDF2\n",
        "import openai\n",
        "openai.api_key = \"XXXXXX\" # Replace with your API key\n",
        "import google.generativeai as palm\n",
        "palm.configure(api_key =\"XXXXXX\") # Replace with your API key"
      ],
      "metadata": {
        "id": "6UD9w0W2gr69"
      },
      "execution_count": null,
      "outputs": []
    },
    {
      "cell_type": "code",
      "source": [
        "# Reading PDF file\n",
        "with open('/content/chapter-2.pdf', 'rb') as file:\n",
        "  pdf_reader = PyPDF2.PdfReader(file)\n",
        "  content = ''\n",
        "  for page in pdf_reader.pages:\n",
        "    content += page.extract_text()"
      ],
      "metadata": {
        "id": "r-7Ghb_phqCi"
      },
      "execution_count": null,
      "outputs": []
    },
    {
      "cell_type": "code",
      "source": [
        "# Checking content of the file\n",
        "content"
      ],
      "metadata": {
        "colab": {
          "base_uri": "https://localhost:8080/",
          "height": 140
        },
        "id": "GqveGzV6iVO-",
        "outputId": "b0e16a68-1937-44ce-812d-566e7aa44b1a"
      },
      "execution_count": null,
      "outputs": [
        {
          "output_type": "execute_result",
          "data": {
            "text/plain": [
              "'From Trade to Territory                   \\nThe Company Establishes Power2\\nAurangzeb was the last of the powerful Mughal rulers. He \\nestablished control over a very large part of the territory that is now known as India. After his death in 1707, many Mughal governors ( subadars) and big zamindars \\nbegan asserting their authority and establishing regional kingdoms. As powerful regional kingdoms emerged in various parts of India, Delhi could no longer function as an effective centre.\\nBy the second half of the eighteenth century, \\nhowever, a new power was emerging on the political horizon – the British. Did you know that the British originally came as a small trading company and were reluctant to acquire territories? How then did they come to be masters of a vast empire? In this chapter you will see how this came about.\\nFig. 1 – Bahadur Shah Zafar  and his sons being arrested by Captain Hodson\\nAfter Aurangzeb there was no \\npowerful Mughal ruler, but Mughal emperors continued to be symbolically important. In fact, when a massive rebellion against British rule broke out in 1857, Bahadur Shah Zafar, the Mughal emperor at the time, was seen as the natural leader. Once the revolt was put down by the company, Bahadur Shah Zafar was forced to leave the kingdom, and his sons were shot in  cold blood. \\nchap 1-4.indd   9 4/22/2022   2:49:25 PMRationalised 2023-24\\n10 OUR PASTS – IIIEast India Company \\nComes East\\nIn 1600, the East India Company acquired a charter from the ruler of England, Queen Elizabeth I, granting it the sole right to trade with the East. This meant that no other trading group in England could compete with the East India Company. With this charter, the Company could venture across the oceans, looking for new lands from which it could buy goods \\nat a cheap price, and carry them back to Europe to sell at higher prices. The Company did not have to fear competition from other English trading companies. Mercantile trading companies in those days made profit primarily by excluding competition, so that they could buy cheap and sell dear.\\nThe royal charter, however, could not prevent other \\nEuropean powers from entering the Eastern markets. By the time the first English ships sailed down the west coast of Africa, round the Cape of Good Hope, and crossed the Indian Ocean, the Portuguese had already established their presence in the western coast of India, and had their base in Goa. In fact, it was Vasco da Gama, a Portuguese explorer, who had discovered this sea route to India in 1498. By the early seventeenth century, the Dutch too were exploring the possibilities of trade in the Indian Ocean. Soon the French traders arrived on the scene. \\nThe problem was that all the companies were \\ninterested in buying the same things. The fine qualities of cotton and silk produced in India had a big market in Europe. Pepper, cloves, cardamom and cinnamon too were in great demand. Competition amongst the European companies inevitably pushed up the prices at which these goods could be purchased, and this reduced the profits that could be earned. The only way the trading companies could flourish was by eliminating rival competitors. The urge to secure markets, therefore, led to fierce battles between the trading companies. Through the seventeenth and eighteenth centuries they regularly sank each other’s ships, blockaded routes, and prevented rival ships from moving with supplies of \\nFig. 2 –  Routes to India in the eighteenth century\\nMercantile – A business enterprise that makes profit primarily through trade, buying goods cheap and selling them at higher prices\\nchap 1-4.indd   10 4/22/2022   2:49:26 PMRationalised 2023-24\\nFROM TRADE TO TERRITORY         11goods. Trade was carried on with arms and trading posts \\nwere protected through fortification. \\nThis effort to fortify settlements and carry on profitable \\ntrade also led to intense conflict with local rulers. The company therefore found it difficult to separate trade from politics. Let us see how this happened. \\nEast India Company begins trade in Bengal\\nThe first English factory was set up on the banks of                  the river Hugli in 1651. This was the base from which the Company’s traders, known at that time as “factors”, operated. The factory had a warehouse where goods for export were stored, and it had offices where Company officials sat. As trade expanded, the Company persuaded merchants and traders to come and settle near the factory. By 1696, it began building a fort around the settlement. Two years later, it bribed Mughal officials into giving the Company zamindari rights over three villages. One of these was Kalikata, which later grew into the city of Calcutta or Kolkata as it is known today. It also persuaded the Mughal emperor Aurangzeb to issue a farman granting \\nthe Company the right to trade duty free.\\nThe Company tried continuously to press for \\nmore concessions and manipulate existing privileges. Aurangzeb’s farman, for instance, had granted only the \\nCompany the right to trade duty free. But officials of  the Company, who were carrying on private trade on the side, were expected to pay duty. This they refused to pay, causing an enormous loss of revenue for Bengal. How could the Nawab of Bengal, Murshid Quli Khan,  \\nnot protest?\\nFig. 3 – Local boats bring goods from ships in Madras, painted by William Simpson, 1867Farman – A royal edict, a royal order\\nchap 1-4.indd   11 4/22/2022   2:49:27 PMRationalised 2023-24\\n12 OUR PASTS – IIIHow trade led to battles\\nThrough the early eighteenth century, the conflict between \\nthe Company and the nawabs of Bengal intensified.  After the death of Aurangzeb, the Bengal nawabs asserted their power and autonomy, as other regional powers were doing at that time. Murshid Quli Khan was followed by Alivardi Khan and then Sirajuddaulah as the Nawab of Bengal. Each one of them was a strong ruler. They refused to grant the Company concessions, demanded large tributes for the Company’s right to trade, denied it any right to mint coins, and stopped it from extending its fortifications. Accusing the Company of deceit, they claimed that the Company was depriving the Bengal government of huge amounts of revenue and undermining the authority of the nawab. It was refusing to pay taxes, writing disrespectful letters, and trying to humiliate the nawab and his officials. \\nThe Company on its part declared that the unjust \\ndemands of the local officials were ruining the trade of the Company, and trade could flourish only if the duties were removed. It was also convinced that to expand trade, it had to enlarge its settlements, buy up villages, and rebuild its forts.    \\nThe conflicts led to confrontations and finally culminated \\nin the famous Battle of Plassey.\\nThe Battle of Plassey \\nWhen Alivardi Khan died in 1756, Sirajuddaulah became the nawab of Bengal. The Company was worried about his power and keen on a puppet ruler who would  willingly \\ngive trade concessions and other privileges. So it tried, though without success, to help one of Sirajuddaulah’s rivals become the nawab. An infuriated Sirajuddaulah asked the Company to stop meddling in the political affairs of his dominion, stop fortification, and pay the revenues. After negotiations failed, the Nawab marched with 30,000 soldiers to the English factory at Kassimbazar, captured the Company officials, locked the warehouse, disarmed all Englishmen, and blockaded English ships. Then he marched to Calcutta to establish control over the Company’s fort there. \\nOn hearing the news of the fall of Calcutta, \\nCompany officials in Madras sent forces under the command of Robert Clive, reinforced by naval fleets. Prolonged negotiations with the Nawab followed. Finally,  in 1757, Robert Clive led the Company’s army against Sirajuddaulah at Plassey. One of the main reasons for  \\nDid you know?\\nDid you know how Plassey \\ngot its name? Plassey is an anglicised pronunciation  of Palashi and the place derived its name from the palash  tree known for its \\nbeautiful red flowers that yield gulal , the powder \\nused in the festival of Holi.Fig. 4 – Robert Clive \\nPuppet – Literally, a toy \\nthat you can move with strings. The term is used disapprovingly to refer to a person who is controlled by someone else.\\nchap 1-4.indd   12 4/22/2022   2:49:28 PMRationalised 2023-24\\nFROM TRADE TO TERRITORY         13\\nthe defeat of the Nawab was that the forces led by Mir Jafar, one \\nof Sirajuddaulah’s commanders, never fought the battle. Clive had managed to secure his support by promising to make him nawab after crushing Sirajuddaulah. \\nThe Battle of Plassey became famous because it was the first major \\nvictory the Company won in India. Fig. 5 – The General Court Room, East India House, Leadenhall Street\\nThe Court of \\nProprietors of the East India Company had their meetings in the East India House on Leadenhall Street in London. This is a picture of one of their meetings in progress.\\nThe promise of riches\\nThe territorial ambitions of the mercantile East India Company were viewed with distrust and doubt in England. After the Battle of Plassey, Robert Clive wrote to William Pitt, one of the Principal Secretaries of State to the English monarch, on 7\\n January 1759 from Calcutta: \\nBut so large a sovereignty may possibly be an object too extensive for a mercantile Company … I flatter myself … that there will be little or no difficulty in obtaining the absolute possession of these rich kingdoms: ... Now I leave you to judge, whether an income yearly of two million sterling with the possession of three provinces … be an object deserving the public attention ...Source 1\\nFig. 6 –  Sirajuddaulah\\nchap 1-4.indd   13 4/22/2022   2:49:30 PMRationalised 2023-24\\n14 OUR PASTS – III\\nAfter the defeat at Plassey, Sirajuddaulah was \\nassassinated and Mir Jafar made the nawab. The Company \\nwas still unwilling to take over the responsibility of administration. Its prime objective was the expansion of trade. If this could be done without conquest, through the help of local rulers who were willing to grant privileges, then territories need not be taken over directly. \\nSoon the Company discovered that this was rather \\ndifficult. For even the puppet nawabs were not always as helpful as the Company wanted them to be. After all, they had to maintain a basic appearance of dignity and sovereignty if they wanted respect from their subjects. \\nWhat could the Company do? When Mir Jafar \\nprotested, the Company deposed him and installed Mir Qasim in his place. When Mir Qasim complained, he in turn was defeated in a battle fought at Buxar (1764), driven out of Bengal, and Mir Jafar was reinstalled. The Nawab had to pay Rs. 500,000 every month but the Company wanted more money to finance its wars, and meet the demands of trade and its other expenses. It wanted more territories and more revenue. By the time Mir Jafar died in 1765, the mood of the Company had changed. Having failed to work with puppet nawabs, Clive declared: “We must indeed become  \\nnawabs ourselves”.\\nFinally, in 1765 the Mughal emperor appointed the \\nCompany as the Diwan of the provinces of Bengal. The Diwani allowed the Company to use the vast revenue resources of Bengal. This solved a major problem that the Company had earlier faced. From the early eighteenth century, its trade with India had expanded. But it had to buy most of the goods in India with gold and silver imported from Britain. This was because at this time Britain had no goods to sell in India. The outflow of gold from Britain slowed after the Battle of Plassey, and entirely stopped after the assumption of Diwani. Now revenues from India could finance Company expenses. These revenues could be used to purchase cotton and silk textiles in India, maintain Company troops, and meet the cost of building the Company fort and offices at Calcutta.  \\nCompany officials become “nabobs”\\nWhat did it mean to be nawabs? It meant of course that the Company acquired more power and authority. But it also meant something else. Each company servant began to have visions of living like nawabs.Source 2\\nThe Nawab \\ncomplains\\nIn 1733 the Nawab of Bengal said this about the English traders:\\nWhen they first came into the country they petitioned the then government in a humble manner for liberty to purchase a spot of ground to build a factory house upon, which was no sooner granted but they built a strong fort, surrounded it  with a ditch which has communication with the river and mounted a great number of guns upon the walls. They have enticed several merchants and others to go and take protection under them and they collect a revenue which amounts to Rs. 100,000… they rob and plunder and carry great number of the king’s subjects of both sexes into slavery into their own country … \\nchap 1-4.indd   14 4/22/2022   2:49:30 PMRationalised 2023-24\\nFROM TRADE TO TERRITORY         15After the Battle of Plassey, the actual nawabs of \\nBengal were forced to give land and vast sums of \\nmoney as personal gifts to Company officials. Robert Clive himself amassed a fortune in India. He had come to Madras (now Chennai) from England in 1743 at the age of 18. When in 1767 he left India, his Indian fortune was worth £401,102. Interestingly, when he was appointed Governor of Bengal in 1764, he was asked to remove corruption in Company administration but he was himself cross-examined in 1772 by the British Parliament which was suspicious of his vast wealth. Although he was acquitted, he committed suicide  \\nin 1774. \\nHowever, not all Company officials succeeded in \\nmaking money like Clive. Many died an early death in India due to disease and war, and it would not be right to regard all of them as corrupt and dishonest. Many of them came from humble backgrounds and their uppermost desire was to earn enough in India, return to Britain and lead a comfortable life. Those who managed to return with wealth led flashy lives and flaunted their riches. They were called  \\n“nabobs” – an anglicised version of the Indian word nawab. They were often seen as upstarts and social climbers in British society and were ridiculed or made fun of in plays and cartoons. \\nCompany Rule Expands\\nIf we analyse the process of annexation of Indian states by the East India Company from 1757 to 1857, certain key aspects emerge. The Company rarely launched a direct military attack on an unknown territory. Instead it used a variety of political, economic and diplomatic methods to extend its influence before annexing an Indian kingdom. \\nAfter the Battle of Buxar (1764), the Company \\nappointed Residents in Indian states. They were political or commercial agents and their job was to serve and further the interests of the Company. Through the Residents, the Company officials began interfering in the internal affairs of Indian states. They tried to decide who was to be the successor to the throne, and who was to be appointed in administrative posts. Sometimes, the Company forced the states into a “subsidiary alliance”. According to the terms of this alliance, Indian rulers were not allowed to have their independent armed forces. They were to be protected by the Company, but \\nHow did Clive \\nsee himself?\\nAt his hearing in front  of a Committee in Parliament, Clive declared that he had shown admirable restraint after the Battle of Plassey. This is what he said:\\nConsider the situation in which the victory at Plassey had placed me! A great prince was dependent on my pleasure; an opulent city lay at my mercy; its richest bankers bid against each other for my smiles; I walked through vaults which were thrown open to me alone, piled on either hand with gold and jewels! Mr Chairman, at this moment I stand astonished at my moderation.Source 3\\nImagine that you are a young Company official  who has been in India for a few months. Write a letter home to your mother telling her about your luxurious life and contrasting it with your earlier life in Britain. Activity\\uf086\\nchap 1-4.indd   15 4/22/2022   2:49:30 PMRationalised 2023-24\\n16 OUR PASTS – III\\nSource 4\\nFig. 7 – Nawab Shujauddaulah  \\nof Awadh, with his sons and the British Resident, painted by Tilly Kettle (oil, 1772)\\nThe treaties that followed the \\nBattle of Buxar forced Nawab Shujauddaulah to give up much of his authority. Here, however, he poses in regal splendour, towering over the Resident.\\nInjunction – Instruction\\nSubservience – \\nSubmissivenesshad to pay for the “subsidiary forces” that the Company was supposed to maintain for the purpose of this protection. If the Indian rulers failed to make the payment, then part of their territory was taken away as penalty. For example, when Richard Wellesley was Governor-General (1798–1805), the Nawab of Awadh was forced to give over half of his territory to the Company in 1801, as he failed to pay for the “subsidiary forces”. Hyderabad was also forced to cede territories on similar grounds.\\nWhat power did the Resident have?\\nThis is what James Mill, the famous economist and political philosopher from Scotland, wrote about the residents appointed by the Company. \\nWe place a resident, who really is king of the country, whatever injunctions of non-interference he may act under. As long as the prince acts in perfect subservience, and does what is agreeable \\nto the residents, that is, to the British Government, things go on quietly; they are managed without the resident appearing much in the administration of affairs … but when anything of a different nature happens, the moment the prince takes a course which the British Government think wrong, then comes clashing and disturbance.\\nJames Mill (1832)\\nTipu Sultan – The “Tiger of Mysore”\\nThe Company resorted to direct military confrontation when it saw a threat to its political or economic interests. This can be illustrated with the case of the southern Indian state of Mysore.\\nMysore had grown in strength under the leadership \\nof powerful rulers like Haidar Ali (ruled from 1761 to 1782) and his famous son Tipu Sultan (ruled from 1782 to 1799). Mysore controlled the profitable trade of the Malabar coast where the Company purchased pepper and cardamom. In 1785, Tipu Sultan stopped the export of sandalwood, pepper and cardamom through the ports of his kingdom, and disallowed local merchants from trading with the Company. He also established a close \\nFig. 8  – Tipu Sultan\\nchap 1-4.indd   16 4/22/2022   2:49:32 PMRationalised 2023-24\\nFROM TRADE TO TERRITORY         17relationship with the French in India, and modernised \\nhis army with their help. \\nThe British were furious. They saw Haidar and Tipu \\nas ambitious, arrogant and dangerous – rulers who had to be controlled and crushed. Four wars were fought with Mysore (1767–69, 1780–84, 1790–92 and 1799). Only in the last – the Battle of Seringapatam – did the Company ultimately win a victory. Tipu Sultan was killed defending his capital Seringapatam, Mysore was placed under the former ruling dynasty of the Wodeyars and a subsidiary alliance was imposed on the state. \\nFig. 10 – Tipu’s toy tiger \\nThis is the picture of a big mechanical toy that Tipu possessed.  \\nYou can see a tiger mauling a European soldier. When its handle was turned, the toy tiger roared and the soldier shrieked. This  toy-tiger is now kept in the Victoria and Albert Museum in London. The British took it away when Tipu Sultan died defending his capital Seringapatam on 4 May 1799.Fig. 9 – Cornwallis receiving the sons of Tipu Sultan as hostages, painted by Daniel Orme, 1793\\nThe Company forces were \\ndefeated by Haidar Ali and Tipu Sultan in several battles. But in 1792, attacked by the combined forces of the Marathas, the Nizam of Hyderabad and the Company, Tipu was forced to sign a treaty with the British by which two of his sons were  taken away as hostages. British painters always liked painting scenes that showed the triumph of  British power.\\nThe legend of Tipu\\nKings are often surrounded \\nby legend and their powers glorified through folklore. Here is a legend about Tipu Sultan who became the ruler of Mysore in 1782. It is said that once he went hunting in the forest with a French friend. There he came face to face with a tiger. His gun did not work and his dagger fell to the ground. He battled with the tiger unarmed until he  managed to reach down and pick up the dagger. Finally, he was able to kill the tiger in the battle. After this, he came to be known as the “Tiger of Mysore”. He had the image of the tiger on his flag. \\nchap 1-4.indd   17 4/22/2022   2:49:34 PMRationalised 2023-24\\n18 OUR PASTS – IIIWar with the Marathas \\nFrom the late eighteenth century, the Company also \\nsought to curb and eventually destroy Maratha power. With their defeat in the Third Battle of Panipat in 1761, the Marathas’ dream of ruling from Delhi was shattered. They were divided into many states under different chiefs (sardars) belonging to dynasties such as Sindhia, Holkar, Gaikwad and Bhonsle. These chiefs were held together in a confederacy  under a Peshwa (Principal Minister) \\nwho became its effective military and administrative head based in Pune. Mahadji Sindhia and Nana Phadnis were two famous Maratha soldiers and statesmen of the late eighteenth century. \\nThe Marathas were subdued in a series of wars. \\nIn the first war that ended in 1782 with the Treaty of Salbai, there was no clear victor. The Second Anglo-Maratha War (1803–05) was fought on different fronts, resulting in the British gaining Orissa and the territories north of the Yamuna river including Agra and Delhi. Finally, the Third Anglo-Maratha War of 1817–19 crushed Maratha power. The Peshwa was removed and sent away to Bithur near Kanpur with a pension. The Company now had complete control over the territories south of the Vindhyas. \\nThe claim to paramountcy\\nIt is clear from the above that from the early nineteenth century, the Company pursued an aggressive policy of territorial expansion. Under Lord Hastings (Governor-General from 1813 to 1823), a new policy of “paramountcy” was initiated. Now the Company claimed that its authority was paramount or supreme, hence its power was greater than that of Indian states. In order to protect its interests, it was justified in annexing or threatening to annex any Indian kingdom. This view continued to guide later British policies as well. \\nThis process, however, did not go unchallenged. For \\nexample, when the British tried to annex the small state of Kitoor (in Karnataka today), Rani Channamma took to arms and led an anti-British resistance movement. She was arrested in 1824 and died in prison in 1829. But Rayanna, a poor chowkidar of Sangoli in Kitoor, \\ncarried on the resistance. With popular support, he destroyed many British camps and records. He was caught and hanged by the British in 1830. You will read more about several cases of resistance later in  \\nthe book.Fig. 11 – Lord Hastings. \\n \\nConfederacy – AllianceActivity\\nImagine that you have   come across two old  newspapers reporting on the Battle of Seringapatam and the death of Tipu Sultan. One is a British paper and the other is from Mysore. Write the headline for each of  the two newspapers.\\uf086\\nFig. 12 – A Statue of the  Queen of \\nKitoor (Karnataka) \\nchap 1-4.indd   18 4/22/2022   2:49:36 PMRationalised 2023-24\\nFROM TRADE TO TERRITORY         19\\nIn the late 1830s, the East India \\nCompany became worried about Russia. \\nIt imagined that Russia might expand across Asia and enter India from the north-west. Driven by this fear, the British now wanted to secure their control over the north-west. They fought a prolonged war with Afghanistan between 1838 and 1842, and established indirect Company rule there. Sind was taken over in 1843. Next in line was Punjab. But the presence of Maharaja Ranjit Singh held back the Company. After his death in 1839, two prolonged wars were fought with the Sikh  kingdom. Ultimately, in 1849, Punjab  \\nwas annexed.\\nThe Doctrine of Lapse\\nThe final wave of annexations occurred under Lord Dalhousie who was the Governor-General from 1848 to 1856. He devised a policy that came to be known as the Doctrine of Lapse. The doctrine declared that if an Indian ruler died without a male heir his kingdom would “lapse”, that is, become a part of Company territory. One kingdom after another was annexed simply by applying this doctrine: Satara (1848), Sambalpur (1850), Udaipur (1852), Nagpur (1853) and  \\nJhansi (1854). \\nFinally, in 1856, the Company also took over Awadh. \\nThis time the British had an added argument – they said they were “obliged by duty” to take over Awadh in order to free the people from the “misgovernment” of the Nawab! Enraged by the humiliating way in which  the Nawab was deposed, the people of Awadh joined the great revolt that broke out in 1857. \\nFig. 13  – Maharaja Ranjit Singh holding court  \\nFig. 14   – A portrait of  Veer \\nSurendra Sai Activity\\nImagine that you are a nawab’s nephew and have been \\nbrought up thinking that you will one day be king. Now you find that this will not be allowed by the British because of the new Doctrine of Lapse. What will be your feelings? What will you plan to do so that you can inherit the crown? \\uf086\\nchap 1-4.indd   19 4/22/2022   2:49:39 PMRationalised 2023-24\\n20 OUR PASTS – III\\nFig. 14 a, b, c – Expansion of British \\nterritorial power in India\\nLook at these maps along with a present-day \\npolitical map of India. In each of these maps, try and identify the different parts of India that were not under British rule. Fig. 14 a – India, 1797 Fig. 14 b – India, 1840\\nFig. 14 c – India, 1857\\nchap 1-4.indd   20 4/22/2022   2:49:40 PMRationalised 2023-24\\nFROM TRADE TO TERRITORY         21Setting up a New Administration\\nWarren Hastings (Governor-General from 1773 to 1785) \\nwas one of the many important figures who played a significant role in the expansion of Company power. By his time the Company had acquired power not only                 in Bengal, but also in Bombay and Madras. British territories were broadly divided into administrative units called Presidencies. There were three Presidencies:  Bengal, Madras and Bombay. Each was ruled by a Governor. The supreme head of the administration was the Governor-General. Warren Hastings, the first Governor-General, introduced several administrative reforms, notably in the sphere of justice. \\nFrom 1772 a new system of justice was established. \\nEach district was to have two courts – a criminal court (faujdari adalat ) and a civil court ( diwani adalat ). Maulvis \\nand Hindu pandits interpreted Indian laws for the European district collectors who presided over civil courts. The criminal courts were still under a qazi and a mufti \\nbut under the supervision of the collectors. Qazi – A judge\\nMufti – A jurist of the \\nMuslim community responsible for expounding the law           that the qazi would administer\\nImpeachment – A trial \\nby the House of Lords           in England for charges of misconduct brought against a person in the House of Commons\\nFig. 15 – The trial of Warren Hastings, painted by R.G. Pollard, 1789\\nWhen Warren Hastings went back to England in 1785, Edmund Burke accused him \\nof being personally responsible for the misgovernment of Bengal. This led to an impeachment proceeding in the British Parliament that lasted seven years. \\nchap 1-4.indd   21 4/22/2022   2:49:42 PMRationalised 2023-24\\n22 OUR PASTS – III\\nA major problem was that the Brahman pandits gave \\ndifferent interpretations of local laws based on different \\nschools of the dharmashastra . To bring about uniformity, \\nin 1775 eleven pandits were asked to compile a digest of Hindu laws. N.B. Halhed translated this digest into English. By 1778, a code of Muslim laws was also compiled for the benefit of European judges. Under the Regulating Act of 1773, a new Supreme Court was established, while a court of appeal – the Sadar Nizamat Adalat – was also set up at Calcutta.\\nThe principal figure in an Indian district was the \\nCollector. As the title suggests, his main job was to collect revenue and taxes and maintain law and order in his district with the help of judges, police officers and darogas . \\nHis office – the Collectorate – became the new centre of power and patronage that steadily replaced previous holders of authority.\\nThe Company army\\nColonial rule in India brought in some new ideas of administration and reform but its power rested on its military strength. The Mughal army was mainly composed of cavalry (sawars: trained soldiers on horseback) and infantry, that is, paidal (foot) soldiers. They were given \\ntraining in archery ( teer-andazi ) and the use of the sword. \\nThe cavalry dominated the army and the Mughal state did not feel the need to have a large professionally trained infantry. The rural areas had a large number of armed peasants and the local zamindars often supplied the Mughals with paidal soldiers.\\nA change occurred in the eighteenth century when \\nMughal successor states like Awadh and Benaras started recruiting peasants into their armies and training them as professional soldiers. The East India Company adopted the same method when it began recruitment for its own army, which came to be known as the sepoy army (from the Indian word sipahi, meaning soldier). \\nAs warfare technology changed from the 1820s, the \\ncavalry requirements of the Company’s army declined. This is because the British empire was fighting in Burma, Afghanistan and Egypt where soldiers were armed with muskets and matchlocks. The soldiers of \\nthe Company’s army had to keep pace with changing military requirements and its infantry regiments now became more important. \\nIn the early nineteenth century, the British began  \\nto develop a uniform military culture. Soldiers were Here is a passage from Edmund Burke’s eloquent opening speech during the impeachment of Warren Hastings:\\nI impeach him in the name of the people of India, whose rights he has trodden under his foot and whose country he has turned into a desert. Lastly in the name of human nature itself, in the name of both the sexes, in the name of every age, in the name of every rank, I impeach the common enemy and oppressor of all.Source 5\\n“I impeach the \\ncommon enemy and \\noppressor of all.”\\nDharmashastras – Sanskrit texts prescribing social rules and codes of behaviour, composed from c. 500 \\nBCE onwards\\nSawar – Men on horses\\nMusket – A heavy gun \\nused by infantry soldiers\\nMatchlock – An early \\ntype of gun in which the powder was ignited by a match\\nchap 1-4.indd   22 4/22/2022   2:49:42 PMRationalised 2023-24\\nFROM TRADE TO TERRITORY         23increasingly subjected to European-style training, drill \\nand discipline that regulated their life far more than before. Often this created problems since caste and community feelings were ignored in building a force of professional soldiers. Could individuals so easily give up their caste and religious feelings? Could they see themselves only as soldiers and not as members of communities? \\nWhat did the sepoys feel? How did they react to the \\nchanges in their lives and their identity – that is, their sense of who they were? The Revolt of 1857 gives us a glimpse into the world of the sepoys. You will read about this revolt in Chapter 5.\\nConclusion\\nThus the East India Company was transformed from a trading company to a territorial colonial power. The arrival of new steam technology in the early nineteenth century also aided this process. Till then it would take anywhere between six and eight months to travel to India by sea. Steamships reduced the journey time to three weeks enabling more Britishers and their families to come to a far-off country like India. \\nBy 1857, the Company came to exercise direct rule \\nover about 63 per cent of the territory and 78 per cent of the population of the Indian subcontinent. Combined with its indirect influence on the remaining territory and population of the country, the East India Company had virtually the whole of India under its control.\\nFig. 16 – A sawar of Bengal in the \\nservice of the Company, painted by an unknown Indian artist, 1780\\nAfter the battles with the \\nMarathas and the Mysore rulers, the Company realised the importance of strengthening its cavalry force. \\nchap 1-4.indd   23 4/22/2022   2:49:43 PMRationalised 2023-24\\n24 OUR PASTS – III\\nLet’s recall\\n1. Match the following:\\nDiwani Tipu Sultan\\n“Tiger of Mysore” right to collect land revenue \\nfaujdari adalat  Sepoy  \\nRani Channamma criminal court\\nsipahi  led an anti-British  \\nmovement in Kitoor \\n2. Fill in the blanks:\\n(a) The British conquest of Bengal began with the \\nBattle of ___________.\\n(b) Haidar Ali and Tipu Sultan were the rulers of  \\n___________.\\n(c) Dalhousie implemented the Doctrine of  \\n___________. \\n(d) Maratha kingdoms were located mainly in the  \\n___________ part of India.\\n3. State whether true or false:\\n(a) The Mughal empire became stronger in the eighteenth century.\\n(b) The English East India Company was the only \\nEuropean company that traded with India.\\n(c) Maharaja Ranjit Singh was the ruler of Punjab.\\n(d) The British did not introduce administrative  \\nchanges in the territories they conquered. Let’s imagine\\nYou are living in \\nEngland in the late eighteenth or early nineteenth century. How would you have reacted to the stories of British conquests? Remember that you would have read about the immense fortunes that many of the officials were making.\\nLet’s discuss\\n4. What attracted European trading companies to \\nIndia?\\n5. What were the areas of conflict between the \\nBengal nawabs and the East India Company?\\nchap 1-4.indd   24 4/22/2022   2:49:46 PMRationalised 2023-24\\nFROM TRADE TO TERRITORY         25\\n6. How did the assumption of Diwani benefit the \\nEast India Company?\\n7. Explain the system of “subsidiary alliance”.\\n8. In what way was the administration of the \\nCompany different from that of Indian rulers?\\n9. Describe the changes that occurred in the  \\ncomposition of the Company’s army.\\nLet’s do\\n10. After the British conquest of Bengal, Calcutta \\ngrew from small village to a big city. Find out about the culture, architecture and the life of Europeans and Indians of the city during the colonial period.\\n11. Collect pictures, stories, poems and information \\nabout any of the following – the Rani of Jhansi, Mahadji Sindhia, Haidar Ali, Maharaja Ranjit Singh, Lord Dalhousie or any other contemporary ruler of your region.\\nchap 1-4.indd   25 4/22/2022   2:49:46 PMRationalised 2023-24\\n'"
            ],
            "application/vnd.google.colaboratory.intrinsic+json": {
              "type": "string"
            }
          },
          "metadata": {},
          "execution_count": 35
        }
      ]
    },
    {
      "cell_type": "code",
      "source": [
        "# Checking token counts\n",
        "import tiktoken\n",
        "tokenizer = tiktoken.get_encoding(\"gpt2\")\n",
        "tokens = tokenizer.encode(content)\n",
        "print('Tok', tokens)\n",
        "\n",
        "# Because of ChatGPT token limitations splitting the content into splits. A split contains token of 3000.\n",
        "if len(tokens)>3000:\n",
        "  tokens = tokenizer.encode(content)\n",
        "  print('Len_Tokens', len(tokens))\n",
        "  i=0\n",
        "  n=3000\n",
        "  a=[]\n",
        "  while i < len(tokens):\n",
        "    j=min(i+int(n), len(tokens))\n",
        "    while j>i + int(n):\n",
        "      # Decode the tokens and check for full stop or newline\n",
        "      chunk = tokenizer.decode(tokens[i+j])\n",
        "      if chunk.endswith(\".\") or chunk.endswith(\"\\n\"):\n",
        "        break\n",
        "      j -=1\n",
        "    a.append(tokens[i:j])\n",
        "    i = j\n"
      ],
      "metadata": {
        "colab": {
          "base_uri": "https://localhost:8080/"
        },
        "id": "5e09ypy2qxiu",
        "outputId": "30f217fe-da8b-49a7-8c08-972f5b582eaa"
      },
      "execution_count": null,
      "outputs": [
        {
          "output_type": "stream",
          "name": "stdout",
          "text": [
            "Tok [4863, 9601, 284, 25219, 220, 220, 220, 220, 220, 220, 220, 220, 220, 220, 220, 220, 220, 220, 220, 220, 220, 220, 220, 198, 464, 5834, 10062, 397, 19724, 4333, 17, 198, 32, 333, 648, 38130, 373, 262, 938, 286, 262, 3665, 337, 6724, 282, 24925, 13, 679, 220, 198, 27718, 1630, 625, 257, 845, 1588, 636, 286, 262, 7674, 326, 318, 783, 1900, 355, 3794, 13, 2293, 465, 1918, 287, 1596, 2998, 11, 867, 337, 6724, 282, 26824, 357, 850, 324, 945, 8, 290, 1263, 1976, 321, 521, 945, 220, 198, 1350, 1030, 33183, 511, 4934, 290, 15010, 7915, 41901, 13, 1081, 3665, 7915, 41901, 9349, 287, 2972, 3354, 286, 3794, 11, 12517, 714, 645, 2392, 2163, 355, 281, 4050, 7372, 13, 198, 3886, 262, 1218, 2063, 286, 262, 45592, 4289, 11, 220, 198, 4919, 964, 11, 257, 649, 1176, 373, 11823, 319, 262, 1964, 17810, 784, 262, 3517, 13, 7731, 345, 760, 326, 262, 3517, 6198, 1625, 355, 257, 1402, 7313, 1664, 290, 547, 18416, 284, 12831, 16771, 30, 1374, 788, 750, 484, 1282, 284, 307, 18159, 286, 257, 5909, 13735, 30, 554, 428, 6843, 345, 481, 766, 703, 428, 1625, 546, 13, 198, 14989, 13, 352, 784, 13081, 324, 333, 18381, 1168, 1878, 283, 220, 290, 465, 11989, 852, 5169, 416, 8599, 22816, 1559, 198, 3260, 15412, 648, 38130, 612, 373, 645, 220, 198, 44548, 337, 6724, 282, 22740, 11, 475, 337, 6724, 282, 795, 49406, 3767, 284, 307, 6194, 1146, 1593, 13, 554, 1109, 11, 618, 257, 4858, 21540, 1028, 3517, 3896, 6265, 503, 287, 1248, 3553, 11, 13081, 324, 333, 18381, 1168, 1878, 283, 11, 262, 337, 6724, 282, 23129, 379, 262, 640, 11, 373, 1775, 355, 262, 3288, 3554, 13, 4874, 262, 27360, 373, 1234, 866, 416, 262, 1664, 11, 13081, 324, 333, 18381, 1168, 1878, 283, 373, 4137, 284, 2666, 262, 13239, 11, 290, 465, 11989, 547, 2823, 287, 220, 4692, 2910, 13, 220, 198, 354, 499, 352, 12, 19, 13, 521, 67, 220, 220, 860, 604, 14, 1828, 14, 1238, 1828, 220, 220, 362, 25, 2920, 25, 1495, 3122, 49, 864, 1417, 1160, 1954, 12, 1731, 198, 940, 30229, 350, 1921, 4694, 784, 6711, 25234, 3794, 5834, 220, 198, 34, 2586, 3687, 198, 818, 26143, 11, 262, 3687, 3794, 5834, 9477, 257, 17422, 422, 262, 22740, 286, 4492, 11, 7542, 10674, 314, 11, 21787, 340, 262, 6195, 826, 284, 3292, 351, 262, 3687, 13, 770, 4001, 326, 645, 584, 7313, 1448, 287, 4492, 714, 9320, 351, 262, 3687, 3794, 5834, 13, 2080, 428, 17422, 11, 262, 5834, 714, 13189, 1973, 262, 23744, 11, 2045, 329, 649, 8604, 422, 543, 340, 714, 2822, 7017, 220, 198, 265, 257, 7026, 2756, 11, 290, 3283, 606, 736, 284, 2031, 284, 3677, 379, 2440, 4536, 13, 383, 5834, 750, 407, 423, 284, 3252, 5449, 422, 584, 3594, 7313, 2706, 13, 12185, 415, 576, 7313, 2706, 287, 883, 1528, 925, 7630, 7525, 416, 23494, 5449, 11, 523, 326, 484, 714, 2822, 7026, 290, 3677, 13674, 13, 198, 464, 15100, 17422, 11, 2158, 11, 714, 407, 2948, 584, 220, 198, 22030, 5635, 422, 8218, 262, 8345, 5939, 13, 2750, 262, 640, 262, 717, 3594, 7937, 33835, 866, 262, 7421, 7051, 286, 5478, 11, 2835, 262, 15725, 286, 4599, 13408, 11, 290, 12606, 262, 3942, 10692, 11, 262, 21813, 550, 1541, 4920, 511, 4931, 287, 262, 8830, 7051, 286, 3794, 11, 290, 550, 511, 2779, 287, 1514, 64, 13, 554, 1109, 11, 340, 373, 23663, 1073, 12379, 402, 1689, 11, 257, 21813, 39349, 11, 508, 550, 5071, 428, 5417, 6339, 284, 3794, 287, 1478, 4089, 13, 2750, 262, 1903, 10037, 28117, 4289, 11, 262, 10914, 1165, 547, 13504, 262, 12779, 286, 3292, 287, 262, 3942, 10692, 13, 15894, 262, 4141, 21703, 5284, 319, 262, 3715, 13, 220, 198, 464, 1917, 373, 326, 477, 262, 2706, 547, 220, 198, 34339, 287, 7067, 262, 976, 1243, 13, 383, 3734, 14482, 286, 15985, 290, 23938, 4635, 287, 3794, 550, 257, 1263, 1910, 287, 2031, 13, 24346, 11, 45025, 11, 2657, 321, 296, 290, 29181, 1165, 547, 287, 1049, 3512, 13, 27348, 12077, 262, 3427, 2706, 16857, 7121, 510, 262, 4536, 379, 543, 777, 7017, 714, 307, 8155, 11, 290, 428, 5322, 262, 10177, 326, 714, 307, 7366, 13, 383, 691, 835, 262, 7313, 2706, 714, 31147, 373, 416, 18591, 8976, 13861, 13, 383, 14960, 284, 5713, 5939, 11, 4361, 11, 2957, 284, 14800, 10181, 1022, 262, 7313, 2706, 13, 9561, 262, 10037, 28117, 290, 45592, 10675, 484, 7987, 30895, 1123, 584, 447, 247, 82, 7937, 11, 2512, 5286, 11926, 11, 290, 13351, 8976, 7937, 422, 3867, 351, 9416, 286, 220, 198, 14989, 13, 362, 784, 220, 39602, 274, 284, 3794, 287, 262, 45592, 4289, 198, 42981, 415, 576, 784, 317, 1597, 13953, 326, 1838, 7630, 7525, 832, 3292, 11, 7067, 7017, 7026, 290, 6301, 606, 379, 2440, 4536, 198, 354, 499, 352, 12, 19, 13, 521, 67, 220, 220, 838, 604, 14, 1828, 14, 1238, 1828, 220, 220, 362, 25, 2920, 25, 2075, 3122, 49, 864, 1417, 1160, 1954, 12, 1731, 198, 10913, 2662, 7579, 19266, 5390, 28994, 49, 2043, 15513, 220, 220, 220, 220, 220, 220, 220, 220, 1367, 11274, 82, 13, 9601, 373, 5281, 319, 351, 5101, 290, 7313, 6851, 220, 198, 22474, 6861, 832, 6285, 2649, 13, 220, 198, 1212, 3626, 284, 6285, 1958, 18573, 290, 3283, 319, 17967, 220, 198, 25351, 635, 2957, 284, 8157, 5358, 351, 1957, 24925, 13, 383, 1664, 4361, 1043, 340, 2408, 284, 4553, 3292, 422, 4819, 13, 3914, 514, 766, 703, 428, 3022, 13, 220, 198, 25234, 3794, 5834, 6140, 3292, 287, 28630, 198, 464, 717, 3594, 8860, 373, 900, 510, 319, 262, 6341, 286, 220, 220, 220, 220, 220, 220, 220, 220, 220, 220, 220, 220, 220, 220, 220, 220, 220, 262, 7850, 12905, 4528, 287, 1467, 4349, 13, 770, 373, 262, 2779, 422, 543, 262, 5834, 447, 247, 82, 21703, 11, 1900, 379, 326, 640, 355, 564, 250, 22584, 669, 447, 251, 11, 12228, 13, 383, 8860, 550, 257, 20933, 810, 7017, 329, 10784, 547, 8574, 11, 290, 340, 550, 9730, 810, 5834, 2828, 3332, 13, 1081, 3292, 9902, 11, 262, 5834, 25562, 21779, 290, 21703, 284, 1282, 290, 12259, 1474, 262, 8860, 13, 2750, 1467, 4846, 11, 340, 2540, 2615, 257, 6285, 1088, 262, 9443, 13, 4930, 812, 1568, 11, 340, 275, 8725, 337, 6724, 282, 2828, 656, 3501, 262, 5834, 1976, 321, 521, 2743, 2489, 625, 1115, 15425, 13, 1881, 286, 777, 373, 12612, 1134, 1045, 11, 543, 1568, 6348, 656, 262, 1748, 286, 2199, 8968, 8326, 393, 509, 13597, 1045, 355, 340, 318, 1900, 1909, 13, 632, 635, 25562, 262, 337, 6724, 282, 23129, 15412, 648, 38130, 284, 2071, 257, 1290, 805, 21787, 220, 198, 1169, 5834, 262, 826, 284, 3292, 7077, 1479, 13, 198, 464, 5834, 3088, 17282, 284, 1803, 329, 220, 198, 3549, 26739, 290, 18510, 4683, 18850, 13, 15412, 648, 38130, 447, 247, 82, 1290, 805, 11, 329, 4554, 11, 550, 7520, 691, 262, 220, 198, 39154, 262, 826, 284, 3292, 7077, 1479, 13, 887, 2828, 286, 220, 262, 5834, 11, 508, 547, 6872, 319, 2839, 3292, 319, 262, 1735, 11, 547, 2938, 284, 1414, 7077, 13, 770, 484, 6520, 284, 1414, 11, 6666, 281, 9812, 2994, 286, 6426, 329, 28630, 13, 1374, 714, 262, 41179, 397, 286, 28630, 11, 5921, 1477, 312, 1195, 32176, 11356, 11, 220, 220, 198, 1662, 5402, 30, 198, 14989, 13, 513, 784, 10714, 16659, 2222, 7017, 422, 7937, 287, 4627, 8847, 11, 13055, 416, 3977, 20531, 11, 1248, 3134, 21428, 805, 784, 317, 15100, 1225, 713, 11, 257, 15100, 1502, 198, 354, 499, 352, 12, 19, 13, 521, 67, 220, 220, 1367, 604, 14, 1828, 14, 1238, 1828, 220, 220, 362, 25, 2920, 25, 1983, 3122, 49, 864, 1417, 1160, 1954, 12, 1731, 198, 1065, 30229, 350, 1921, 4694, 784, 6711, 2437, 3292, 2957, 284, 10181, 198, 15046, 262, 1903, 45592, 4289, 11, 262, 5358, 1022, 220, 198, 1169, 5834, 290, 262, 299, 707, 8937, 286, 28630, 32413, 13, 220, 2293, 262, 1918, 286, 15412, 648, 38130, 11, 262, 28630, 299, 707, 8937, 21635, 511, 1176, 290, 21851, 11, 355, 584, 7915, 5635, 547, 1804, 379, 326, 640, 13, 5921, 1477, 312, 1195, 32176, 11356, 373, 3940, 416, 978, 452, 22490, 11356, 290, 788, 7361, 1228, 4185, 2518, 993, 355, 262, 41179, 397, 286, 28630, 13, 5501, 530, 286, 606, 373, 257, 1913, 22740, 13, 1119, 6520, 284, 7264, 262, 5834, 26739, 11, 12284, 1588, 256, 7657, 329, 262, 5834, 447, 247, 82, 826, 284, 3292, 11, 6699, 340, 597, 826, 284, 21043, 10796, 11, 290, 5025, 340, 422, 16610, 663, 6285, 6637, 13, 6366, 3500, 262, 5834, 286, 37268, 11, 484, 4752, 326, 262, 5834, 373, 15659, 1075, 262, 28630, 1230, 286, 3236, 6867, 286, 6426, 290, 30340, 262, 4934, 286, 262, 299, 707, 397, 13, 632, 373, 15487, 284, 1414, 5704, 11, 3597, 41987, 7475, 11, 290, 2111, 284, 22251, 378, 262, 299, 707, 397, 290, 465, 2828, 13, 220, 198, 464, 5834, 319, 663, 636, 6875, 326, 262, 21218, 220, 198, 9536, 1746, 286, 262, 1957, 2828, 547, 39842, 262, 3292, 286, 262, 5834, 11, 290, 3292, 714, 31147, 691, 611, 262, 10741, 547, 4615, 13, 632, 373, 635, 9431, 326, 284, 4292, 3292, 11, 340, 550, 284, 27475, 663, 18573, 11, 2822, 510, 15425, 11, 290, 17884, 663, 329, 912, 13, 220, 220, 220, 220, 198, 464, 12333, 2957, 284, 7239, 602, 290, 3443, 45200, 220, 198, 259, 262, 5863, 5838, 286, 1345, 292, 4397, 13, 198, 464, 5838, 286, 1345, 292, 4397, 220, 198, 2215, 978, 452, 22490, 11356, 3724, 287, 1596, 3980, 11, 7361, 1228, 4185, 2518, 993, 2627, 262, 299, 707, 397, 286, 28630, 13, 383, 5834, 373, 7960, 546, 465, 1176, 290, 13795, 319, 257, 30095, 22740, 508, 561, 220, 30981, 220, 198, 26535, 3292, 26739, 290, 584, 18850, 13, 1406, 340, 3088, 11, 996, 1231, 1943, 11, 284, 1037, 530, 286, 7361, 1228, 4185, 2518, 993, 447, 247, 82, 14987, 1716, 262, 299, 707, 397, 13, 1052, 35905, 515, 7361, 1228, 4185, 2518, 993, 1965, 262, 5834, 284, 2245, 33545, 287, 262, 1964, 9674, 286, 465, 43866, 11, 2245, 6285, 2649, 11, 290, 1414, 262, 13089, 13, 2293, 9825, 4054, 11, 262, 41179, 397, 23558, 351, 1542, 11, 830, 5795, 284, 262, 3594, 8860, 379, 40511, 14107, 29413, 11, 7907, 262, 5834, 2828, 11, 8970, 262, 20933, 11, 595, 12026, 477, 3594, 3653, 11, 290, 2512, 5286, 3594, 7937, 13, 3244, 339, 23558, 284, 2199, 8968, 8326, 284, 4474, 1630, 625, 262, 5834, 447, 247, 82, 6285, 612, 13, 220, 198, 2202, 4854, 262, 1705, 286, 262, 2121, 286, 2199, 8968, 8326, 11, 220, 198, 39154, 2828, 287, 4627, 8847, 1908, 3386, 739, 262, 3141, 286, 5199, 47722, 11, 23738, 416, 19014, 39439, 13, 1041, 6511, 276, 9825, 351, 262, 41179, 397, 3940, 13, 9461, 11, 220, 287, 1596, 3553, 11, 5199, 47722, 2957, 262, 5834, 447, 247, 82, 5428, 1028, 7361, 1228, 4185, 2518, 993, 379, 1345, 292, 4397, 13, 1881, 286, 262, 1388, 3840, 329, 220, 220, 198, 11633, 345, 760, 30, 198, 11633, 345, 760, 703, 1345, 292, 4397, 220, 198, 23442, 663, 1438, 30, 1345, 292, 4397, 318, 281, 3550, 677, 1417, 41694, 220, 286, 3175, 12144, 290, 262, 1295, 10944, 663, 1438, 422, 262, 6340, 1077, 220, 5509, 1900, 329, 663, 220, 198, 40544, 4135, 2266, 12734, 326, 7800, 47161, 282, 837, 262, 11913, 220, 198, 1484, 287, 262, 10876, 286, 6479, 72, 13, 14989, 13, 604, 784, 5199, 47722, 220, 198, 47, 44933, 784, 48414, 11, 257, 13373, 220, 198, 5562, 345, 460, 1445, 351, 13042, 13, 383, 3381, 318, 973, 22293, 1075, 306, 284, 3522, 284, 257, 1048, 508, 318, 6856, 416, 2130, 2073, 13, 198, 354, 499, 352, 12, 19, 13, 521, 67, 220, 220, 1105, 604, 14, 1828, 14, 1238, 1828, 220, 220, 362, 25, 2920, 25, 2078, 3122, 49, 864, 1417, 1160, 1954, 12, 1731, 198, 10913, 2662, 7579, 19266, 5390, 28994, 49, 2043, 15513, 220, 220, 220, 220, 220, 220, 220, 220, 1511, 198, 1169, 7433, 286, 262, 41179, 397, 373, 326, 262, 3386, 2957, 416, 7381, 449, 1878, 283, 11, 530, 220, 198, 1659, 7361, 1228, 4185, 2518, 993, 447, 247, 82, 22576, 11, 1239, 8350, 262, 3344, 13, 47722, 550, 5257, 284, 5713, 465, 1104, 416, 11781, 284, 787, 683, 299, 707, 397, 706, 24949, 7361, 1228, 4185, 2518, 993, 13, 220, 198, 464, 5838, 286, 1345, 292, 4397, 2627, 5863, 780, 340, 373, 262, 717, 1688, 220, 198, 32433, 652, 262, 5834, 1839, 287, 3794, 13, 12138, 13, 642, 784, 383, 3611, 3078, 10096, 11, 3687, 3794, 2097, 11, 20116, 16550, 439, 3530, 198, 464, 3078, 286, 220, 198, 47, 9219, 316, 669, 286, 262, 3687, 3794, 5834, 550, 511, 8292, 287, 262, 3687, 3794, 2097, 319, 20116, 16550, 439, 3530, 287, 3576, 13, 770, 318, 257, 4286, 286, 530, 286, 511, 8292, 287, 4371, 13, 198, 464, 6991, 286, 35000, 198, 464, 22414, 22455, 286, 262, 11991, 415, 576, 3687, 3794, 5834, 547, 9569, 351, 30086, 290, 4719, 287, 4492, 13, 2293, 262, 5838, 286, 1345, 292, 4397, 11, 5199, 47722, 2630, 284, 3977, 10276, 11, 530, 286, 262, 32641, 3943, 3166, 286, 1812, 284, 262, 3594, 26464, 11, 319, 767, 198, 3269, 1596, 3270, 422, 2199, 8968, 8326, 25, 220, 198, 1537, 523, 1588, 257, 18582, 743, 5457, 307, 281, 2134, 1165, 7667, 329, 257, 11991, 415, 576, 5834, 3926, 314, 781, 1436, 3589, 3926, 326, 612, 481, 307, 1310, 393, 645, 8722, 287, 16727, 262, 4112, 7797, 286, 777, 5527, 41901, 25, 2644, 2735, 314, 2666, 345, 284, 5052, 11, 1771, 281, 3739, 24169, 286, 734, 1510, 46499, 351, 262, 7797, 286, 1115, 17812, 3926, 307, 281, 2134, 34685, 262, 1171, 3241, 2644, 7416, 352, 198, 14989, 13, 718, 784, 220, 7361, 1228, 4185, 2518, 993, 198, 354, 499, 352, 12, 19, 13, 521, 67, 220, 220, 1511, 604, 14, 1828, 14, 1238, 1828, 220, 220, 362, 25, 2920, 25, 1270, 3122, 49, 864, 1417, 1160, 1954, 12, 1731, 198, 1415, 30229, 350, 1921, 4694, 784, 6711, 198, 3260, 262, 7433, 379, 1345, 292, 4397, 11, 7361, 1228, 4185, 2518, 993, 373, 220, 198, 562, 562, 3898, 290, 7381, 449, 1878, 283, 925, 262, 299, 707, 397, 13, 383, 5834, 220, 198, 9776, 991, 19084, 284, 1011, 625, 262, 5798, 286, 3662, 13, 6363, 6994, 9432, 373, 262, 7118, 286, 3292, 13, 1002, 428, 714, 307, 1760, 1231, 29179, 11, 832, 262, 1037, 286, 1957, 24925, 508, 547, 4684, 284, 7264, 18850, 11, 788, 16771, 761, 407, 307, 2077, 625, 3264, 13, 220, 198, 28093, 262, 5834, 5071, 326, 428, 373, 2138, 220, 198, 26069, 2249, 13, 1114, 772, 262, 30095, 299, 707, 8937, 547, 407, 1464, 355, 7613, 355, 262, 5834, 2227, 606, 284, 307, 13, 2293, 477, 11, 484, 550, 284, 5529, 257, 4096, 5585, 286, 16247, 290, 18582, 611, 484, 2227, 2461, 422, 511, 7481, 13, 220, 198, 2061, 714, 262, 5834, 466, 30, 1649, 7381, 449, 1878, 283, 220, 198, 11235, 7287, 11, 262, 5834, 1207, 1335, 683, 290, 6589, 7381, 1195, 292, 320, 287, 465, 1295, 13, 1649, 7381, 1195, 292, 320, 13832, 11, 339, 287, 1210, 373, 9772, 287, 257, 3344, 8350, 379, 347, 2821, 283, 357, 1558, 2414, 828, 7986, 503, 286, 28630, 11, 290, 7381, 449, 1878, 283, 373, 6865, 301, 4262, 13, 383, 41179, 397, 550, 284, 1414, 12820, 13, 5323, 11, 830, 790, 1227, 475, 262, 5834, 2227, 517, 1637, 284, 9604, 663, 9976, 11, 290, 1826, 262, 8665, 286, 3292, 290, 663, 584, 9307, 13, 632, 2227, 517, 16771, 290, 517, 6426, 13, 2750, 262, 640, 7381, 449, 1878, 283, 3724, 287, 1596, 2996, 11, 262, 10038, 286, 262, 5834, 550, 3421, 13, 11136, 4054, 284, 670, 351, 30095, 299, 707, 8937, 11, 47722, 6875, 25, 564, 250, 1135, 1276, 5600, 1716, 220, 220, 198, 77, 707, 8937, 6731, 447, 251, 13, 198, 11158, 11, 287, 1596, 2996, 262, 337, 6724, 282, 23129, 9899, 262, 220, 198, 39154, 355, 262, 6031, 8149, 286, 262, 17812, 286, 28630, 13, 383, 6031, 86, 3216, 3142, 262, 5834, 284, 779, 262, 5909, 6426, 4133, 286, 28630, 13, 770, 16019, 257, 1688, 1917, 326, 262, 5834, 550, 2961, 7452, 13, 3574, 262, 1903, 45592, 4289, 11, 663, 3292, 351, 3794, 550, 9902, 13, 887, 340, 550, 284, 2822, 749, 286, 262, 7017, 287, 3794, 351, 3869, 290, 8465, 17392, 422, 5491, 13, 770, 373, 780, 379, 428, 640, 5491, 550, 645, 7017, 284, 3677, 287, 3794, 13, 383, 503, 11125, 286, 3869, 422, 5491, 20955, 706, 262, 5838, 286, 1345, 292, 4397, 11, 290, 5000, 5025, 706, 262, 13196, 286, 6031, 86, 3216, 13, 2735, 13089, 422, 3794, 714, 9604, 5834, 9307, 13, 2312, 13089, 714, 307, 973, 284, 5001, 15985, 290, 23938, 2420, 2915, 287, 3794, 11, 5529, 5834, 6553, 11, 290, 1826, 262, 1575, 286, 2615, 262, 5834, 6285, 290, 9730, 379, 2199, 8968, 8326, 13, 220, 220, 198, 39154, 2828, 1716, 564, 250, 77, 397, 8158, 447, 251, 198, 2061, 750, 340, 1612, 284, 307, 299, 707, 8937, 30, 632, 4001, 286, 1781, 326, 262, 5834, 9477, 517, 1176, 290, 4934, 13, 887, 340, 635, 4001, 1223, 2073, 13, 5501, 1664, 18807, 2540, 284, 423, 26096, 286, 2877, 588, 299, 707, 8937, 13, 7416, 362, 198, 464, 41179, 397, 220, 198, 23855, 1299, 198, 818, 1596, 2091, 262, 41179, 397, 286, 28630, 531, 428, 546, 262, 3594, 21703, 25, 198, 2215, 484, 717, 1625, 656, 262, 1499, 484, 8853, 276, 262, 788, 1230, 287, 257, 19695, 5642, 329, 12354, 284, 5001, 257, 4136, 286, 2323, 284, 1382, 257, 8860, 2156, 2402, 11, 543, 373, 645, 14556, 7520, 475, 484, 3170, 257, 1913, 6285, 11, 11191, 340, 220, 351, 257, 30115, 543, 468, 6946, 351, 262, 7850, 290, 12623, 257, 1049, 1271, 286, 6541, 2402, 262, 7714, 13, 1119, 423, 920, 3711, 1811, 21779, 290, 1854, 284, 467, 290, 1011, 4800, 739, 606, 290, 484, 2824, 257, 6426, 543, 6867, 284, 12820, 13, 1802, 11, 830, 1399, 484, 3857, 290, 42996, 290, 3283, 1049, 1271, 286, 262, 5822, 447, 247, 82, 7481, 286, 1111, 32487, 656, 13503, 656, 511, 898, 1499, 3926, 220, 198, 354, 499, 352, 12, 19, 13, 521, 67, 220, 220, 1478, 604, 14, 1828, 14, 1238, 1828, 220, 220, 362, 25, 2920, 25, 1270, 3122, 49, 864, 1417, 1160, 1954, 12, 1731, 198, 10913, 2662, 7579, 19266, 5390, 28994, 49, 2043, 15513, 220, 220, 220, 220, 220, 220, 220, 220, 1315, 3260, 262, 5838, 286, 1345, 292, 4397, 11, 262, 4036, 299, 707, 8937, 286, 220, 198, 33, 1516, 282, 547, 4137, 284, 1577, 1956, 290, 5909, 21784, 286, 220, 198, 26316, 355, 2614, 13201, 284, 5834, 2828, 13, 5199, 47722, 2241, 39025, 257, 15807, 287, 3794, 13, 679, 550, 1282, 284, 4627, 8847, 357, 2197, 47678, 8, 422, 4492, 287, 1596, 3559, 379, 262, 2479, 286, 1248, 13, 1649, 287, 1596, 3134, 339, 1364, 3794, 11, 465, 3942, 15807, 373, 2861, 4248, 21844, 11, 15377, 13, 25044, 11, 618, 339, 373, 9899, 10807, 286, 28630, 287, 1596, 2414, 11, 339, 373, 1965, 284, 4781, 9253, 287, 5834, 3662, 475, 339, 373, 2241, 3272, 12, 1069, 321, 1389, 287, 1596, 4761, 416, 262, 3517, 8411, 543, 373, 13678, 286, 465, 5909, 5129, 13, 4900, 339, 373, 35497, 11, 339, 5364, 7341, 220, 220, 198, 259, 1596, 4524, 13, 220, 198, 4864, 11, 407, 477, 5834, 2828, 14131, 287, 220, 198, 8601, 1637, 588, 47722, 13, 4650, 3724, 281, 1903, 1918, 287, 3794, 2233, 284, 4369, 290, 1175, 11, 290, 340, 561, 407, 307, 826, 284, 2754, 477, 286, 606, 355, 10622, 290, 30549, 13, 4650, 286, 606, 1625, 422, 19695, 19063, 290, 511, 6727, 1712, 6227, 373, 284, 5160, 1576, 287, 3794, 11, 1441, 284, 5491, 290, 1085, 257, 6792, 1204, 13, 5845, 508, 5257, 284, 1441, 351, 5129, 2957, 43115, 3160, 290, 781, 20227, 511, 35000, 13, 1119, 547, 1444, 220, 220, 198, 447, 250, 77, 397, 8158, 447, 251, 784, 281, 3550, 677, 1417, 2196, 286, 262, 3942, 1573, 299, 707, 397, 13, 1119, 547, 1690, 1775, 355, 510, 301, 5889, 290, 1919, 39311, 287, 3517, 3592, 290, 547, 47263, 393, 925, 1257, 286, 287, 5341, 290, 30070, 13, 220, 198, 39154, 14330, 5518, 1746, 198, 1532, 356, 39552, 262, 1429, 286, 41329, 286, 3942, 2585, 416, 262, 3687, 3794, 5834, 422, 1596, 3553, 284, 1248, 3553, 11, 1728, 1994, 7612, 14740, 13, 383, 5834, 8365, 5611, 257, 1277, 2422, 1368, 319, 281, 6439, 7674, 13, 5455, 340, 973, 257, 4996, 286, 1964, 11, 3034, 290, 13093, 5050, 284, 9117, 663, 4588, 878, 22768, 278, 281, 3942, 13239, 13, 220, 198, 3260, 262, 5838, 286, 347, 2821, 283, 357, 1558, 2414, 828, 262, 5834, 220, 198, 32924, 29602, 287, 3942, 2585, 13, 1119, 547, 1964, 393, 5068, 6554, 290, 511, 1693, 373, 284, 4691, 290, 2252, 262, 5353, 286, 262, 5834, 13, 9561, 262, 29602, 11, 262, 5834, 2828, 2540, 32874, 287, 262, 5387, 9674, 286, 3942, 2585, 13, 1119, 3088, 284, 5409, 508, 373, 284, 307, 262, 17270, 284, 262, 19262, 11, 290, 508, 373, 284, 307, 9899, 287, 11553, 6851, 13, 8975, 11, 262, 5834, 4137, 262, 2585, 656, 257, 564, 250, 7266, 30255, 8042, 12801, 447, 251, 13, 4784, 284, 262, 2846, 286, 428, 12801, 11, 3942, 24925, 547, 407, 3142, 284, 423, 511, 4795, 6936, 3386, 13, 1119, 547, 284, 307, 6861, 416, 262, 5834, 11, 475, 220, 198, 2437, 750, 47722, 220, 198, 3826, 2241, 30, 198, 2953, 465, 4854, 287, 2166, 220, 286, 257, 4606, 287, 8411, 11, 47722, 6875, 326, 339, 550, 3402, 37959, 24596, 706, 262, 5838, 286, 1345, 292, 4397, 13, 770, 318, 644, 339, 531, 25, 198, 19626, 262, 3074, 287, 543, 262, 5373, 379, 1345, 292, 4397, 550, 4624, 502, 0, 317, 1049, 19716, 373, 10795, 319, 616, 9476, 26, 281, 1034, 15288, 1748, 3830, 379, 616, 17703, 26, 663, 24348, 25091, 8406, 1028, 1123, 584, 329, 616, 21845, 26, 314, 6807, 832, 410, 13185, 543, 547, 8754, 1280, 284, 502, 3436, 11, 33654, 319, 2035, 1021, 351, 3869, 290, 42701, 0, 1770, 12787, 11, 379, 428, 2589, 314, 1302, 40962, 379, 616, 34401, 13, 7416, 513, 198, 25153, 326, 345, 389, 257, 1862, 5834, 1743, 220, 508, 468, 587, 287, 3794, 329, 257, 1178, 1933, 13, 19430, 257, 3850, 1363, 284, 534, 2802, 5149, 607, 546, 534, 35985, 1204, 290, 40737, 340, 351, 534, 2961, 1204, 287, 5491, 13, 24641, 171, 224, 228, 198, 354, 499, 352, 12, 19, 13, 521, 67, 220, 220, 1315, 604, 14, 1828, 14, 1238, 1828, 220, 220, 362, 25, 2920, 25, 1270, 3122, 49, 864, 1417, 1160, 1954, 12, 1731, 198, 1433, 30229, 350, 1921, 4694, 784, 6711, 198, 7416, 604, 198, 14989, 13, 767, 784, 41179, 397, 911, 23577, 3885, 67, 2518, 993, 220, 220, 198, 1659, 5851, 24411, 11, 351, 465, 11989, 290, 262, 3517, 22373, 11, 13055, 416, 309, 6548, 509, 23570, 357, 9437, 11, 1596, 4761, 8, 198, 464, 30734, 326, 3940, 262, 220, 198, 24064, 286, 347, 2821, 283, 4137, 41179, 397, 911, 23577, 3885, 67, 2518, 993, 284, 1577, 510, 881, 286, 465, 4934, 13, 3423, 11, 2158, 11, 339, 17313, 287, 842, 282, 32394, 454, 11, 38879, 625, 262, 22373, 13, 198, 818, 73, 4575, 784, 46486, 198, 7004, 3168, 1240, 784, 220, 198, 7004, 3927, 6517, 18108, 284, 1414, 329, 262, 564, 250, 7266, 30255, 8042, 3386, 447, 251, 326, 262, 5834, 373, 4385, 284, 5529, 329, 262, 4007, 286, 428, 4800, 13, 1002, 262, 3942, 24925, 4054, 284, 787, 262, 6074, 11, 788, 636, 286, 511, 7674, 373, 2077, 1497, 355, 7389, 13, 1114, 1672, 11, 618, 6219, 3894, 49048, 373, 10807, 12, 12218, 357, 1558, 4089, 1906, 1507, 2713, 828, 262, 41179, 397, 286, 5851, 24411, 373, 4137, 284, 1577, 625, 2063, 286, 465, 7674, 284, 262, 5834, 287, 1248, 486, 11, 355, 339, 4054, 284, 1414, 329, 262, 564, 250, 7266, 30255, 8042, 3386, 447, 251, 13, 47660, 17325, 373, 635, 4137, 284, 269, 18654, 16771, 319, 2092, 9384, 13, 198, 2061, 1176, 750, 262, 22373, 423, 30, 198, 1212, 318, 644, 3700, 9212, 11, 262, 5863, 17646, 290, 1964, 23723, 422, 8838, 11, 2630, 546, 262, 5085, 9899, 416, 262, 5834, 13, 220, 198, 1135, 1295, 257, 6623, 11, 508, 1107, 318, 5822, 286, 262, 1499, 11, 4232, 2529, 46797, 286, 1729, 12, 3849, 4288, 339, 743, 719, 739, 13, 1081, 890, 355, 262, 19716, 6529, 287, 2818, 850, 3168, 1240, 11, 290, 857, 644, 318, 49534, 220, 198, 1462, 262, 5085, 11, 326, 318, 11, 284, 262, 3517, 5070, 11, 1243, 467, 319, 12703, 26, 484, 389, 5257, 1231, 262, 6623, 12655, 881, 287, 262, 3662, 286, 9674, 3926, 475, 618, 1997, 286, 257, 1180, 3450, 4325, 11, 262, 2589, 262, 19716, 2753, 257, 1781, 543, 262, 3517, 5070, 892, 2642, 11, 788, 2058, 537, 2140, 290, 30497, 13, 198, 14731, 9212, 357, 1507, 2624, 8, 198, 28434, 84, 37399, 784, 383, 564, 250, 51, 8254, 286, 337, 893, 382, 447, 251, 198, 464, 5834, 44635, 284, 1277, 2422, 19207, 618, 340, 2497, 257, 2372, 284, 663, 1964, 393, 3034, 5353, 13, 770, 460, 307, 18542, 351, 262, 1339, 286, 262, 8372, 3942, 1181, 286, 337, 893, 382, 13, 198, 44, 893, 382, 550, 7334, 287, 4202, 739, 262, 5531, 220, 198, 1659, 3665, 24925, 588, 367, 1698, 283, 12104, 357, 81, 6309, 422, 1596, 5333, 284, 1596, 6469, 8, 290, 465, 5863, 3367, 23095, 84, 37399, 357, 81, 6309, 422, 1596, 6469, 284, 1596, 2079, 737, 337, 893, 382, 6856, 262, 17967, 3292, 286, 262, 4434, 397, 283, 7051, 810, 262, 5834, 8155, 13385, 290, 2657, 321, 296, 13, 554, 1596, 5332, 11, 23095, 84, 37399, 5025, 262, 10784, 286, 6450, 282, 3822, 11, 13385, 290, 2657, 321, 296, 832, 262, 14090, 286, 465, 13239, 11, 290, 595, 40845, 1957, 21779, 422, 7313, 351, 262, 5834, 13, 679, 635, 4920, 257, 1969, 220, 198, 14989, 13, 807, 220, 784, 23095, 84, 37399, 198, 354, 499, 352, 12, 19, 13, 521, 67, 220, 220, 1467, 604, 14, 1828, 14, 1238, 1828, 220, 220, 362, 25, 2920, 25, 2624, 3122, 49, 864, 1417, 1160, 1954, 12, 1731, 198, 10913, 2662, 7579, 19266, 5390, 28994, 49, 2043, 15513, 220, 220, 220, 220, 220, 220, 220, 220, 1596, 39468, 1056, 351, 262, 4141, 287, 3794, 11, 290, 3660, 1417, 220, 198, 14363, 5428, 351, 511, 1037, 13, 220, 198, 464, 3517, 547, 21799, 13, 1119, 2497, 367, 1698, 283, 290, 23095, 84, 220, 198, 292, 14742, 11, 28868, 290, 4923, 784, 24925, 508, 550, 284, 307, 6856, 290, 18577, 13, 6675, 9976, 547, 8350, 351, 337, 893, 382, 357, 1558, 3134, 1906, 3388, 11, 1596, 1795, 1906, 5705, 11, 1596, 3829, 1906, 5892, 290, 1596, 2079, 737, 5514, 287, 262, 938, 784, 262, 5838, 286, 311, 1586, 499, 265, 321, 784, 750, 262, 5834, 6165, 1592, 257, 5373, 13, 23095, 84, 37399, 373, 2923, 11749, 465, 3139, 311, 1586, 499, 265, 321, 11, 337, 893, 382, 373, 4624, 739, 262, 1966, 6922, 30968, 286, 262, 370, 1098, 88, 945, 290, 257, 22347, 12801, 373, 10893, 319, 262, 1181, 13, 220, 198, 14989, 13, 838, 784, 23095, 84, 447, 247, 82, 13373, 26241, 220, 198, 1212, 318, 262, 4286, 286, 257, 1263, 12370, 13373, 326, 23095, 84, 17273, 13, 220, 220, 198, 1639, 460, 766, 257, 26241, 285, 2518, 278, 257, 3427, 10686, 13, 1649, 663, 5412, 373, 2900, 11, 262, 13373, 26241, 45615, 290, 262, 10686, 35064, 988, 276, 13, 770, 220, 13373, 12, 83, 8254, 318, 783, 4030, 287, 262, 12313, 290, 9966, 9594, 287, 3576, 13, 383, 3517, 1718, 340, 1497, 618, 23095, 84, 37399, 3724, 11749, 465, 3139, 311, 1586, 499, 265, 321, 319, 604, 1737, 1596, 2079, 13, 14989, 13, 860, 784, 45294, 271, 6464, 262, 11989, 286, 23095, 84, 37399, 355, 31331, 11, 13055, 416, 7806, 1471, 1326, 11, 1596, 6052, 198, 464, 5834, 3386, 547, 220, 198, 4299, 68, 515, 416, 367, 1698, 283, 12104, 290, 23095, 84, 37399, 287, 1811, 10181, 13, 887, 287, 1596, 5892, 11, 7384, 416, 262, 5929, 3386, 286, 262, 1526, 776, 292, 11, 262, 399, 528, 321, 286, 47660, 17325, 290, 262, 5834, 11, 23095, 84, 373, 4137, 284, 1051, 257, 15775, 351, 262, 3517, 416, 543, 734, 286, 465, 11989, 547, 220, 2077, 1497, 355, 31331, 13, 3517, 2356, 1010, 1464, 8288, 12036, 8188, 326, 3751, 262, 15499, 286, 220, 3517, 1176, 13, 198, 464, 8177, 286, 23095, 84, 198, 42912, 389, 1690, 11191, 220, 198, 1525, 8177, 290, 511, 5635, 26996, 1431, 832, 46623, 13, 3423, 318, 257, 8177, 546, 23095, 84, 37399, 508, 2627, 262, 22740, 286, 337, 893, 382, 287, 1596, 6469, 13, 632, 318, 531, 326, 1752, 339, 1816, 10988, 287, 262, 8222, 351, 257, 4141, 1545, 13, 1318, 339, 1625, 1986, 284, 1986, 351, 257, 26241, 13, 2399, 2485, 750, 407, 670, 290, 465, 31322, 3214, 284, 262, 2323, 13, 679, 31472, 351, 262, 26241, 24270, 1566, 339, 220, 5257, 284, 3151, 866, 290, 2298, 510, 262, 31322, 13, 9461, 11, 339, 373, 1498, 284, 1494, 262, 26241, 287, 262, 3344, 13, 2293, 428, 11, 339, 1625, 284, 307, 1900, 355, 262, 564, 250, 51, 8254, 286, 337, 893, 382, 447, 251, 13, 679, 550, 262, 2939, 286, 262, 26241, 319, 465, 6056, 13, 220, 198, 354, 499, 352, 12, 19, 13, 521, 67, 220, 220, 1596, 604, 14, 1828, 14, 1238, 1828, 220, 220, 362, 25, 2920, 25, 2682, 3122, 49, 864, 1417, 1160, 1954, 12, 1731, 198, 1507, 30229, 350, 1921, 4694, 784, 6711, 13195, 351, 262, 1526, 776, 292, 220, 198, 4863, 262, 2739, 45592, 4289, 11, 262, 5834, 635, 220, 198, 82, 2917, 284, 20799, 290, 4191, 4117, 1526, 30921, 1176, 13, 2080, 511, 7433, 287, 262, 10467, 5838, 286, 5961, 541, 265, 287, 1596, 5333, 11, 262, 1526, 776, 292, 447, 247, 4320, 286, 6922, 422, 12517, 373, 23273, 13, 1119, 547, 9086, 656, 867, 2585, 739, 1180, 30217, 357, 82, 446, 945, 8, 16686, 284, 37860, 459, 444, 884, 355, 44830, 71, 544, 11, 6479, 21070, 11, 12822, 1134, 86, 324, 290, 16581, 684, 293, 13, 2312, 30217, 547, 2714, 1978, 287, 257, 1013, 5702, 1590, 220, 739, 257, 39654, 10247, 357, 42904, 8521, 4139, 8, 220, 198, 8727, 2627, 663, 4050, 2422, 290, 11553, 1182, 1912, 287, 350, 1726, 13, 8882, 324, 7285, 44830, 71, 544, 290, 399, 2271, 1380, 324, 21361, 547, 734, 5863, 1526, 30921, 5795, 290, 2585, 3653, 286, 262, 2739, 45592, 4289, 13, 220, 198, 464, 1526, 776, 292, 547, 38759, 287, 257, 2168, 286, 9976, 13, 220, 198, 818, 262, 717, 1175, 326, 4444, 287, 1596, 6469, 351, 262, 21345, 286, 4849, 65, 1872, 11, 612, 373, 645, 1598, 2210, 273, 13, 383, 5498, 27525, 12, 7676, 30921, 1810, 357, 1507, 3070, 1906, 2713, 8, 373, 8350, 319, 1180, 29324, 11, 7186, 287, 262, 3517, 13977, 1471, 13808, 290, 262, 16771, 5093, 286, 262, 14063, 9613, 7850, 1390, 2449, 430, 290, 12517, 13, 9461, 11, 262, 10467, 27525, 12, 7676, 30921, 1810, 286, 1248, 1558, 1906, 1129, 18577, 1526, 30921, 1176, 13, 383, 39654, 10247, 373, 4615, 290, 1908, 1497, 284, 347, 342, 333, 1474, 14248, 14225, 351, 257, 13553, 13, 383, 5834, 783, 550, 1844, 1630, 625, 262, 16771, 5366, 286, 262, 569, 521, 12114, 292, 13, 220, 198, 464, 1624, 284, 37352, 948, 198, 1026, 318, 1598, 422, 262, 2029, 326, 422, 262, 1903, 29666, 4289, 11, 262, 5834, 19189, 281, 8361, 2450, 286, 22414, 7118, 13, 4698, 4453, 38330, 357, 29168, 273, 12, 12218, 422, 1248, 1485, 284, 1248, 1954, 828, 257, 649, 2450, 286, 564, 250, 17143, 608, 948, 447, 251, 373, 16862, 13, 2735, 262, 5834, 4752, 326, 663, 4934, 373, 37352, 393, 17700, 11, 12891, 663, 1176, 373, 3744, 621, 326, 286, 3942, 2585, 13, 554, 1502, 284, 1805, 663, 5353, 11, 340, 373, 14460, 287, 22768, 278, 393, 11123, 284, 22768, 597, 3942, 13239, 13, 770, 1570, 3767, 284, 5698, 1568, 3517, 4788, 355, 880, 13, 220, 198, 1212, 1429, 11, 2158, 11, 750, 407, 467, 16258, 439, 47422, 13, 1114, 220, 198, 20688, 11, 618, 262, 3517, 3088, 284, 22768, 262, 1402, 1181, 286, 10897, 2675, 357, 259, 31625, 48088, 1909, 828, 371, 3216, 609, 1236, 321, 2611, 1718, 284, 5101, 290, 2957, 281, 3098, 12, 25631, 6625, 3356, 13, 1375, 373, 5169, 287, 1248, 1731, 290, 3724, 287, 3770, 287, 1248, 1959, 13, 887, 7760, 7697, 11, 257, 3595, 442, 322, 38439, 283, 286, 30043, 11106, 287, 10897, 2675, 11, 220, 198, 7718, 2228, 319, 262, 6625, 13, 2080, 2968, 1104, 11, 339, 6572, 867, 3517, 11665, 290, 4406, 13, 679, 373, 4978, 290, 40597, 416, 262, 3517, 287, 45440, 13, 921, 481, 1100, 517, 546, 1811, 2663, 286, 6625, 1568, 287, 220, 220, 198, 1169, 1492, 13, 14989, 13, 1367, 784, 4453, 38330, 13, 220, 198, 220, 198, 18546, 5702, 1590, 784, 10302, 16516, 198, 25153, 326, 345, 423, 220, 220, 1282, 1973, 734, 1468, 220, 14741, 6447, 319, 262, 5838, 286, 311, 1586, 499, 265, 321, 290, 262, 1918, 286, 23095, 84, 37399, 13, 1881, 318, 257, 3517, 3348, 290, 262, 584, 318, 422, 337, 893, 382, 13, 19430, 262, 16534, 329, 1123, 286, 220, 262, 734, 14741, 13, 171, 224, 228, 198, 14989, 13, 1105, 784, 317, 43330, 286, 262, 220, 7542, 286, 220, 198, 20827, 2675, 357, 42, 1501, 48088, 8, 220, 198, 354, 499, 352, 12, 19, 13, 521, 67, 220, 220, 1248, 604, 14, 1828, 14, 1238, 1828, 220, 220, 362, 25, 2920, 25, 2623, 3122, 49, 864, 1417, 1160, 1954, 12, 1731, 198, 10913, 2662, 7579, 19266, 5390, 28994, 49, 2043, 15513, 220, 220, 220, 220, 220, 220, 220, 220, 678, 198, 818, 262, 2739, 45440, 82, 11, 262, 3687, 3794, 220, 198, 39154, 2627, 7960, 546, 3284, 13, 220, 198, 1026, 15758, 326, 3284, 1244, 4292, 1973, 7229, 290, 3802, 3794, 422, 262, 5093, 12, 7038, 13, 5809, 574, 416, 428, 3252, 11, 262, 3517, 783, 2227, 284, 5713, 511, 1630, 625, 262, 5093, 12, 7038, 13, 1119, 8350, 257, 20573, 1175, 351, 8037, 1022, 1248, 2548, 290, 1248, 3682, 11, 290, 4920, 12913, 5834, 3896, 612, 13, 44830, 373, 2077, 625, 287, 1248, 3559, 13, 7406, 287, 1627, 373, 33328, 13, 887, 262, 4931, 286, 31692, 27792, 23075, 45051, 14403, 2714, 736, 262, 5834, 13, 2293, 465, 1918, 287, 1248, 2670, 11, 734, 20573, 9976, 547, 8350, 351, 262, 34629, 220, 13239, 13, 24199, 11, 287, 1248, 2920, 11, 33328, 220, 220, 198, 9776, 49181, 13, 198, 464, 35541, 286, 406, 7512, 198, 464, 2457, 6769, 286, 22768, 602, 5091, 739, 4453, 12348, 71, 516, 494, 508, 373, 262, 10807, 12, 12218, 422, 1248, 2780, 284, 1248, 3980, 13, 679, 28964, 257, 2450, 326, 1625, 284, 307, 1900, 355, 262, 35541, 286, 406, 7512, 13, 383, 13115, 6875, 326, 611, 281, 3942, 22740, 3724, 1231, 257, 4257, 28625, 465, 13239, 561, 564, 250, 75, 7512, 447, 251, 11, 326, 318, 11, 1716, 257, 636, 286, 5834, 7674, 13, 1881, 13239, 706, 1194, 373, 49181, 2391, 416, 11524, 428, 13115, 25, 7031, 3301, 357, 1507, 2780, 828, 3409, 6893, 14225, 357, 1507, 1120, 828, 471, 6814, 541, 333, 357, 1507, 4309, 828, 15196, 14225, 357, 1507, 4310, 8, 290, 220, 220, 198, 41, 71, 504, 72, 357, 1507, 4051, 737, 220, 198, 11158, 11, 287, 1248, 3980, 11, 262, 5834, 635, 1718, 625, 5851, 24411, 13, 220, 198, 1212, 640, 262, 3517, 550, 281, 2087, 4578, 784, 484, 531, 484, 547, 564, 250, 672, 4604, 276, 416, 7077, 447, 251, 284, 1011, 625, 5851, 24411, 287, 1502, 284, 1479, 262, 661, 422, 262, 564, 250, 25413, 14480, 447, 251, 286, 262, 41179, 397, 0, 2039, 18312, 416, 262, 37743, 835, 287, 543, 220, 262, 41179, 397, 373, 1207, 1335, 11, 262, 661, 286, 5851, 24411, 5399, 262, 1049, 27360, 326, 6265, 503, 287, 1248, 3553, 13, 220, 198, 14989, 13, 1511, 220, 784, 31692, 27792, 23075, 45051, 14403, 4769, 2184, 220, 220, 198, 14989, 13, 1478, 220, 220, 784, 317, 18560, 286, 220, 8016, 263, 220, 198, 19457, 24631, 25251, 24641, 198, 25153, 326, 345, 389, 257, 299, 707, 397, 447, 247, 82, 26301, 290, 423, 587, 220, 198, 65, 2909, 510, 3612, 326, 345, 481, 530, 1110, 307, 5822, 13, 2735, 345, 1064, 326, 428, 481, 407, 307, 3142, 416, 262, 3517, 780, 286, 262, 649, 35541, 286, 406, 7512, 13, 1867, 481, 307, 534, 7666, 30, 1867, 481, 345, 1410, 284, 466, 523, 326, 345, 460, 16955, 262, 12389, 30, 27332, 224, 228, 198, 354, 499, 352, 12, 19, 13, 521, 67, 220, 220, 678, 604, 14, 1828, 14, 1238, 1828, 220, 220, 362, 25, 2920, 25, 2670, 3122, 49, 864, 1417, 1160, 1954, 12, 1731, 198, 1238, 30229, 350, 1921, 4694, 784, 6711, 198, 14989, 13, 1478, 257, 11, 275, 11, 269, 784, 25042, 286, 3517, 220, 198, 353, 799, 5132, 1176, 287, 3794, 198, 8567, 379, 777, 8739, 1863, 351, 257, 1944, 12, 820, 220, 198, 23149, 3975, 286, 3794, 13, 554, 1123, 286, 777, 8739, 11, 1949, 290, 5911, 262, 1180, 3354, 286, 3794, 326, 547, 407, 739, 3517, 3896, 13, 12138, 13, 1478, 257, 784, 3794, 11, 1596, 5607, 12138, 13, 1478, 275, 784, 3794, 11, 47784, 198, 14989, 13, 1478, 269, 784, 3794, 11, 1248, 3553, 198, 354, 499, 352, 12, 19, 13, 521, 67, 220, 220, 1160, 604, 14, 1828, 14, 1238, 1828, 220, 220, 362, 25, 2920, 25, 1821, 3122, 49, 864, 1417, 1160, 1954, 12, 1731, 198, 10913, 2662, 7579, 19266, 5390, 28994, 49, 2043, 15513, 220, 220, 220, 220, 220, 220, 220, 220, 2310, 34149, 510, 257, 968, 8694, 198, 43464, 38330, 357, 29168, 273, 12, 12218, 422, 1596, 4790, 284, 1596, 5332, 8, 220, 198, 9776, 530, 286, 262, 867, 1593, 5538, 508, 2826, 257, 2383, 2597, 287, 262, 7118, 286, 5834, 1176, 13, 2750, 465, 640, 262, 5834, 550, 9477, 1176, 407, 691, 220, 220, 220, 220, 220, 220, 220, 220, 220, 220, 220, 220, 220, 220, 220, 220, 287, 28630, 11, 475, 635, 287, 48918, 290, 4627, 8847, 13, 3517, 16771, 547, 18633, 9086, 656, 11553, 4991, 1444, 1763, 312, 3976, 13, 1318, 547, 1115, 1763, 312, 3976, 25, 220, 28630, 11, 4627, 8847, 290, 48918, 13, 5501, 373, 8879, 416, 257, 10807, 13, 383, 17700, 1182, 286, 262, 3662, 373, 262, 10807, 12, 12218, 13, 11328, 38330, 11, 262, 717, 10807, 12, 12218, 11, 5495, 1811, 11553, 12506, 11, 14660, 287, 262, 16558, 286, 5316, 13, 220, 198, 4863, 1596, 4761, 257, 649, 1080, 286, 5316, 373, 4920, 13, 220, 198, 10871, 4783, 373, 284, 423, 734, 8028, 784, 257, 4301, 2184, 357, 69, 559, 73, 67, 2743, 512, 282, 265, 1267, 290, 257, 3026, 2184, 357, 2566, 86, 3216, 512, 282, 265, 6739, 40580, 4703, 220, 198, 392, 16397, 19798, 896, 16173, 3942, 3657, 329, 262, 3427, 4783, 26668, 508, 45022, 625, 3026, 8028, 13, 383, 4301, 8028, 547, 991, 739, 257, 10662, 7761, 290, 257, 38779, 701, 72, 220, 198, 4360, 739, 262, 20865, 286, 262, 26668, 13, 1195, 7761, 784, 317, 5052, 198, 33239, 701, 72, 784, 317, 8174, 396, 286, 262, 220, 198, 17067, 2055, 4497, 329, 1033, 9969, 262, 1099, 220, 220, 220, 220, 220, 220, 220, 220, 220, 220, 326, 262, 10662, 7761, 561, 21766, 198, 3546, 431, 15520, 784, 317, 4473, 220, 198, 1525, 262, 2097, 286, 18651, 220, 220, 220, 220, 220, 220, 220, 220, 220, 220, 287, 4492, 329, 4530, 286, 17063, 3181, 1028, 257, 1048, 287, 262, 2097, 286, 13815, 198, 14989, 13, 1315, 784, 383, 4473, 286, 11328, 38330, 11, 13055, 416, 371, 13, 38, 13, 12868, 446, 11, 1596, 4531, 198, 2215, 11328, 38330, 1816, 736, 284, 4492, 287, 1596, 5332, 11, 35646, 23259, 5371, 683, 220, 198, 1659, 852, 7620, 4497, 329, 262, 2984, 14480, 286, 28630, 13, 770, 2957, 284, 281, 30258, 18788, 287, 262, 3517, 8411, 326, 15436, 3598, 812, 13, 220, 198, 354, 499, 352, 12, 19, 13, 521, 67, 220, 220, 2310, 604, 14, 1828, 14, 1238, 1828, 220, 220, 362, 25, 2920, 25, 3682, 3122, 49, 864, 1417, 1160, 1954, 12, 1731, 198, 1828, 30229, 350, 1921, 4694, 784, 6711, 198, 32, 1688, 1917, 373, 326, 262, 36415, 805, 19798, 896, 2921, 220, 198, 39799, 26146, 286, 1957, 3657, 1912, 319, 1180, 220, 198, 14347, 82, 286, 262, 288, 29155, 1077, 459, 430, 764, 1675, 2222, 546, 8187, 414, 11, 220, 198, 259, 1596, 2425, 22216, 19798, 896, 547, 1965, 284, 17632, 257, 16274, 286, 16397, 3657, 13, 399, 13, 33, 13, 11023, 704, 14251, 428, 16274, 656, 3594, 13, 2750, 1596, 3695, 11, 257, 2438, 286, 3765, 3657, 373, 635, 14102, 329, 262, 4414, 286, 3427, 10266, 13, 4698, 262, 3310, 8306, 2191, 286, 1596, 4790, 11, 257, 649, 5617, 3078, 373, 4920, 11, 981, 257, 2184, 286, 5198, 784, 262, 14668, 283, 399, 528, 321, 265, 1215, 282, 265, 784, 373, 635, 900, 510, 379, 2199, 8968, 8326, 13, 198, 464, 10033, 3785, 287, 281, 3942, 4783, 373, 262, 220, 198, 31337, 273, 13, 1081, 262, 3670, 5644, 11, 465, 1388, 1693, 373, 284, 2824, 6426, 290, 5704, 290, 5529, 1099, 290, 1502, 287, 465, 4783, 351, 262, 1037, 286, 10266, 11, 1644, 3790, 290, 288, 283, 519, 292, 764, 220, 198, 6653, 2607, 784, 262, 9745, 16262, 784, 2627, 262, 649, 7372, 286, 1176, 290, 49753, 326, 18434, 6928, 2180, 16392, 286, 4934, 13, 198, 464, 5834, 5428, 198, 5216, 30752, 3896, 287, 3794, 3181, 287, 617, 649, 4213, 286, 3662, 290, 4975, 475, 663, 1176, 29263, 319, 663, 2422, 4202, 13, 383, 337, 6724, 282, 5428, 373, 8384, 13160, 286, 30891, 357, 43439, 945, 25, 8776, 5795, 319, 8223, 1891, 8, 290, 21548, 11, 326, 318, 11, 3432, 282, 357, 5898, 8, 5795, 13, 1119, 547, 1813, 220, 198, 34409, 287, 610, 31132, 357, 573, 263, 12, 392, 7761, 1267, 290, 262, 779, 286, 262, 8429, 13, 220, 198, 464, 30891, 13354, 262, 5428, 290, 262, 337, 6724, 282, 1181, 750, 407, 1254, 262, 761, 284, 423, 257, 1588, 28049, 8776, 21548, 13, 383, 10016, 3006, 550, 257, 1588, 1271, 286, 6936, 29177, 290, 262, 1957, 1976, 321, 521, 945, 1690, 14275, 262, 337, 6724, 874, 351, 3432, 282, 5795, 13, 198, 32, 1487, 5091, 287, 262, 45592, 4289, 618, 220, 198, 44, 6724, 282, 17270, 2585, 588, 5851, 24411, 290, 3932, 283, 292, 2067, 16517, 29177, 656, 511, 18837, 290, 3047, 606, 355, 4708, 5795, 13, 383, 3687, 3794, 5834, 8197, 262, 976, 2446, 618, 340, 2540, 19624, 329, 663, 898, 5428, 11, 543, 1625, 284, 307, 1900, 355, 262, 41767, 726, 5428, 357, 6738, 262, 3942, 1573, 31145, 32810, 11, 3616, 10686, 737, 220, 198, 1722, 15611, 3037, 3421, 422, 262, 1248, 1238, 82, 11, 262, 220, 198, 66, 9226, 563, 5359, 286, 262, 5834, 447, 247, 82, 5428, 7392, 13, 770, 318, 780, 262, 3517, 13735, 373, 4330, 287, 40306, 11, 8037, 290, 6365, 810, 5795, 547, 6936, 351, 1928, 74, 1039, 290, 2872, 28860, 13, 383, 5795, 286, 220, 198, 1169, 5834, 447, 247, 82, 5428, 550, 284, 1394, 8761, 351, 5609, 2422, 5359, 290, 663, 21548, 842, 6800, 783, 2627, 517, 1593, 13, 220, 198, 818, 262, 1903, 29666, 4289, 11, 262, 3517, 2540, 220, 220, 198, 1462, 1205, 257, 8187, 2422, 3968, 13, 28179, 547, 3423, 318, 257, 10066, 422, 35646, 23259, 447, 247, 82, 32973, 298, 4756, 4046, 1141, 262, 30258, 286, 11328, 38330, 25, 198, 40, 18516, 620, 683, 287, 262, 1438, 286, 262, 661, 286, 3794, 11, 3025, 2489, 339, 468, 4161, 4742, 739, 465, 2366, 290, 3025, 1499, 339, 468, 2900, 656, 257, 10326, 13, 36778, 287, 262, 1438, 286, 1692, 3450, 2346, 11, 287, 262, 1438, 286, 1111, 262, 32487, 11, 287, 262, 1438, 286, 790, 2479, 11, 287, 262, 1438, 286, 790, 4279, 11, 314, 18516, 620, 262, 2219, 4472, 290, 35035, 273, 286, 477, 13, 7416, 642, 198, 447, 250, 40, 18516, 620, 262, 220, 198, 11321, 4472, 290, 220, 198, 10365, 44292, 286, 477, 13, 447, 251, 198, 35, 29155, 1077, 459, 8847, 784, 46178, 13399, 39973, 1919, 3173, 290, 12416, 286, 9172, 11, 13160, 422, 269, 13, 5323, 220, 198, 2749, 36, 31719, 198, 50, 48841, 784, 6065, 319, 14260, 198, 10694, 7126, 784, 317, 4334, 2485, 220, 198, 1484, 416, 21548, 5795, 198, 23850, 5354, 784, 1052, 1903, 220, 198, 4906, 286, 2485, 287, 543, 262, 11913, 373, 40442, 416, 257, 2872, 198, 354, 499, 352, 12, 19, 13, 521, 67, 220, 220, 2534, 604, 14, 1828, 14, 1238, 1828, 220, 220, 362, 25, 2920, 25, 3682, 3122, 49, 864, 1417, 1160, 1954, 12, 1731, 198, 10913, 2662, 7579, 19266, 5390, 28994, 49, 2043, 15513, 220, 220, 220, 220, 220, 220, 220, 220, 2242, 42647, 306, 16164, 284, 3427, 12, 7635, 3047, 11, 16007, 220, 198, 392, 12883, 326, 17153, 511, 1204, 1290, 517, 621, 878, 13, 18023, 428, 2727, 2761, 1201, 30747, 290, 2055, 7666, 547, 9514, 287, 2615, 257, 2700, 286, 4708, 5795, 13, 10347, 3925, 523, 3538, 1577, 510, 511, 30747, 290, 4158, 7666, 30, 10347, 484, 766, 2405, 691, 355, 5795, 290, 407, 355, 1866, 286, 5348, 30, 220, 198, 2061, 750, 262, 41767, 19417, 1254, 30, 1374, 750, 484, 6324, 284, 262, 220, 198, 36653, 287, 511, 3160, 290, 511, 5369, 784, 326, 318, 11, 511, 2565, 286, 508, 484, 547, 30, 383, 5416, 5978, 286, 1248, 3553, 3607, 514, 257, 19350, 656, 262, 995, 286, 262, 41767, 19417, 13, 921, 481, 1100, 546, 428, 27360, 287, 7006, 642, 13, 198, 21481, 198, 19093, 262, 3687, 3794, 5834, 373, 14434, 422, 257, 7313, 1664, 284, 257, 22414, 17091, 1176, 13, 383, 10325, 286, 649, 13324, 3037, 287, 262, 1903, 29666, 4289, 635, 28310, 428, 1429, 13, 17888, 788, 340, 561, 1011, 6609, 1022, 2237, 290, 3624, 1933, 284, 3067, 284, 3794, 416, 5417, 13, 2441, 4105, 5748, 5322, 262, 7002, 640, 284, 1115, 2745, 15882, 517, 2490, 39116, 290, 511, 4172, 284, 1282, 284, 257, 1290, 12, 2364, 1499, 588, 3794, 13, 220, 198, 3886, 1248, 3553, 11, 262, 5834, 1625, 284, 5517, 1277, 3896, 220, 198, 2502, 546, 8093, 583, 1247, 286, 262, 7674, 290, 8699, 583, 1247, 286, 262, 3265, 286, 262, 3942, 850, 3642, 7233, 13, 32028, 351, 663, 12913, 4588, 319, 262, 5637, 7674, 290, 3265, 286, 262, 1499, 11, 262, 3687, 3794, 5834, 550, 9826, 262, 2187, 286, 3794, 739, 663, 1630, 13, 198, 14989, 13, 1467, 784, 317, 2497, 283, 286, 28630, 287, 262, 220, 198, 15271, 286, 262, 5834, 11, 13055, 416, 281, 6439, 3942, 6802, 11, 1596, 1795, 198, 3260, 262, 10181, 351, 262, 220, 198, 7676, 776, 292, 290, 262, 337, 893, 382, 24925, 11, 262, 5834, 19169, 262, 6817, 286, 24175, 663, 30891, 2700, 13, 220, 198, 354, 499, 352, 12, 19, 13, 521, 67, 220, 220, 2242, 604, 14, 1828, 14, 1238, 1828, 220, 220, 362, 25, 2920, 25, 3559, 3122, 49, 864, 1417, 1160, 1954, 12, 1731, 198, 1731, 30229, 350, 1921, 4694, 784, 6711, 198, 5756, 447, 247, 82, 10014, 198, 16, 13, 13225, 262, 1708, 25, 198, 35, 14246, 3216, 23095, 84, 37399, 198, 447, 250, 51, 8254, 286, 337, 893, 382, 447, 251, 826, 284, 2824, 1956, 6426, 220, 198, 69, 559, 73, 67, 2743, 512, 282, 265, 220, 8621, 726, 220, 220, 198, 49, 3216, 609, 1236, 321, 2611, 4301, 2184, 198, 82, 541, 32810, 220, 2957, 281, 3098, 12, 25631, 220, 220, 198, 21084, 434, 287, 10897, 2675, 220, 198, 17, 13, 27845, 287, 262, 698, 2283, 25, 198, 7, 64, 8, 383, 3517, 29179, 286, 28630, 2540, 351, 262, 220, 198, 24064, 286, 220, 2602, 17569, 13, 198, 7, 65, 8, 367, 1698, 283, 12104, 290, 23095, 84, 37399, 547, 262, 24925, 286, 220, 220, 198, 2602, 17569, 13, 198, 7, 66, 8, 12348, 71, 516, 494, 9177, 262, 35541, 286, 220, 220, 198, 2602, 17569, 13, 220, 198, 7, 67, 8, 1526, 30921, 41901, 547, 5140, 8384, 287, 262, 220, 220, 198, 2602, 17569, 636, 286, 3794, 13, 198, 18, 13, 1812, 1771, 2081, 393, 3991, 25, 198, 7, 64, 8, 383, 337, 6724, 282, 13735, 2627, 7387, 287, 262, 45592, 4289, 13, 198, 7, 65, 8, 383, 3594, 3687, 3794, 5834, 373, 262, 691, 220, 198, 22030, 1664, 326, 14018, 351, 3794, 13, 198, 7, 66, 8, 31692, 27792, 23075, 45051, 14403, 373, 262, 22740, 286, 33328, 13, 198, 7, 67, 8, 383, 3517, 750, 407, 10400, 11553, 220, 220, 198, 36653, 287, 262, 16771, 484, 29346, 13, 3914, 447, 247, 82, 5967, 198, 1639, 389, 2877, 287, 220, 198, 39163, 287, 262, 2739, 45592, 393, 1903, 29666, 4289, 13, 1374, 561, 345, 423, 22798, 284, 262, 3923, 286, 3517, 20277, 3558, 30, 11436, 326, 345, 561, 423, 1100, 546, 262, 13964, 27806, 326, 867, 286, 262, 2828, 547, 1642, 13, 198, 5756, 447, 247, 82, 2112, 198, 19, 13, 1867, 12725, 3427, 7313, 2706, 284, 220, 198, 21569, 30, 198, 20, 13, 1867, 547, 262, 3006, 286, 5358, 1022, 262, 220, 198, 33, 1516, 282, 299, 707, 8937, 290, 262, 3687, 3794, 5834, 30, 198, 354, 499, 352, 12, 19, 13, 521, 67, 220, 220, 1987, 604, 14, 1828, 14, 1238, 1828, 220, 220, 362, 25, 2920, 25, 3510, 3122, 49, 864, 1417, 1160, 1954, 12, 1731, 198, 10913, 2662, 7579, 19266, 5390, 28994, 49, 2043, 15513, 220, 220, 220, 220, 220, 220, 220, 220, 1679, 198, 21, 13, 1374, 750, 262, 13196, 286, 6031, 86, 3216, 4414, 262, 220, 198, 25234, 3794, 5834, 30, 198, 22, 13, 48605, 262, 1080, 286, 564, 250, 7266, 30255, 8042, 12801, 447, 251, 13, 198, 23, 13, 554, 644, 835, 373, 262, 3662, 286, 262, 220, 198, 39154, 1180, 422, 326, 286, 3942, 24925, 30, 198, 24, 13, 39373, 4892, 262, 2458, 326, 5091, 287, 262, 220, 220, 198, 785, 9150, 286, 262, 5834, 447, 247, 82, 5428, 13, 198, 5756, 447, 247, 82, 466, 198, 940, 13, 2293, 262, 3517, 29179, 286, 28630, 11, 2199, 8968, 8326, 220, 198, 70, 1809, 422, 1402, 7404, 284, 257, 1263, 1748, 13, 9938, 503, 546, 262, 3968, 11, 10959, 290, 262, 1204, 286, 20006, 290, 12746, 286, 262, 1748, 1141, 262, 17091, 2278, 13, 198, 1157, 13, 9745, 5986, 11, 3923, 11, 31888, 290, 1321, 220, 198, 10755, 597, 286, 262, 1708, 784, 262, 371, 3216, 286, 449, 71, 504, 72, 11, 8882, 324, 7285, 44830, 71, 544, 11, 367, 1698, 283, 12104, 11, 31692, 27792, 23075, 45051, 14403, 11, 4453, 12348, 71, 516, 494, 393, 597, 584, 11811, 22740, 286, 534, 3814, 13, 198, 354, 499, 352, 12, 19, 13, 521, 67, 220, 220, 1679, 604, 14, 1828, 14, 1238, 1828, 220, 220, 362, 25, 2920, 25, 3510, 3122, 49, 864, 1417, 1160, 1954, 12, 1731, 198]\n",
            "Len_Tokens 8479\n"
          ]
        }
      ]
    },
    {
      "cell_type": "code",
      "source": [
        "len(a)"
      ],
      "metadata": {
        "colab": {
          "base_uri": "https://localhost:8080/"
        },
        "id": "iSSijEges0pl",
        "outputId": "680c790a-1076-4d6d-fb29-fd35301f91b2"
      },
      "execution_count": null,
      "outputs": [
        {
          "output_type": "execute_result",
          "data": {
            "text/plain": [
              "3"
            ]
          },
          "metadata": {},
          "execution_count": 37
        }
      ]
    },
    {
      "cell_type": "markdown",
      "source": [
        "Here len(a) is 3. The given content file has more than 3000 token. so it splitted the content to satisfy the given condition.(Exapmle: (8000=3000+3000+2000))"
      ],
      "metadata": {
        "id": "mOlUDxO_s4_Y"
      }
    },
    {
      "cell_type": "code",
      "source": [
        "# Decoding the token into text\n",
        "text_chunks = [tokenizer.decode(chunk) for chunk in a]\n",
        "text_chunks\n"
      ],
      "metadata": {
        "colab": {
          "base_uri": "https://localhost:8080/"
        },
        "id": "N1Q1jI-xuV2c",
        "outputId": "d1f09943-d8c6-432a-c262-b897f83657f6"
      },
      "execution_count": null,
      "outputs": [
        {
          "output_type": "execute_result",
          "data": {
            "text/plain": [
              "['From Trade to Territory                   \\nThe Company Establishes Power2\\nAurangzeb was the last of the powerful Mughal rulers. He \\nestablished control over a very large part of the territory that is now known as India. After his death in 1707, many Mughal governors ( subadars) and big zamindars \\nbegan asserting their authority and establishing regional kingdoms. As powerful regional kingdoms emerged in various parts of India, Delhi could no longer function as an effective centre.\\nBy the second half of the eighteenth century, \\nhowever, a new power was emerging on the political horizon – the British. Did you know that the British originally came as a small trading company and were reluctant to acquire territories? How then did they come to be masters of a vast empire? In this chapter you will see how this came about.\\nFig. 1 – Bahadur Shah Zafar  and his sons being arrested by Captain Hodson\\nAfter Aurangzeb there was no \\npowerful Mughal ruler, but Mughal emperors continued to be symbolically important. In fact, when a massive rebellion against British rule broke out in 1857, Bahadur Shah Zafar, the Mughal emperor at the time, was seen as the natural leader. Once the revolt was put down by the company, Bahadur Shah Zafar was forced to leave the kingdom, and his sons were shot in  cold blood. \\nchap 1-4.indd   9 4/22/2022   2:49:25 PMRationalised 2023-24\\n10 OUR PASTS – IIIEast India Company \\nComes East\\nIn 1600, the East India Company acquired a charter from the ruler of England, Queen Elizabeth I, granting it the sole right to trade with the East. This meant that no other trading group in England could compete with the East India Company. With this charter, the Company could venture across the oceans, looking for new lands from which it could buy goods \\nat a cheap price, and carry them back to Europe to sell at higher prices. The Company did not have to fear competition from other English trading companies. Mercantile trading companies in those days made profit primarily by excluding competition, so that they could buy cheap and sell dear.\\nThe royal charter, however, could not prevent other \\nEuropean powers from entering the Eastern markets. By the time the first English ships sailed down the west coast of Africa, round the Cape of Good Hope, and crossed the Indian Ocean, the Portuguese had already established their presence in the western coast of India, and had their base in Goa. In fact, it was Vasco da Gama, a Portuguese explorer, who had discovered this sea route to India in 1498. By the early seventeenth century, the Dutch too were exploring the possibilities of trade in the Indian Ocean. Soon the French traders arrived on the scene. \\nThe problem was that all the companies were \\ninterested in buying the same things. The fine qualities of cotton and silk produced in India had a big market in Europe. Pepper, cloves, cardamom and cinnamon too were in great demand. Competition amongst the European companies inevitably pushed up the prices at which these goods could be purchased, and this reduced the profits that could be earned. The only way the trading companies could flourish was by eliminating rival competitors. The urge to secure markets, therefore, led to fierce battles between the trading companies. Through the seventeenth and eighteenth centuries they regularly sank each other’s ships, blockaded routes, and prevented rival ships from moving with supplies of \\nFig. 2 –  Routes to India in the eighteenth century\\nMercantile – A business enterprise that makes profit primarily through trade, buying goods cheap and selling them at higher prices\\nchap 1-4.indd   10 4/22/2022   2:49:26 PMRationalised 2023-24\\nFROM TRADE TO TERRITORY         11goods. Trade was carried on with arms and trading posts \\nwere protected through fortification. \\nThis effort to fortify settlements and carry on profitable \\ntrade also led to intense conflict with local rulers. The company therefore found it difficult to separate trade from politics. Let us see how this happened. \\nEast India Company begins trade in Bengal\\nThe first English factory was set up on the banks of                  the river Hugli in 1651. This was the base from which the Company’s traders, known at that time as “factors”, operated. The factory had a warehouse where goods for export were stored, and it had offices where Company officials sat. As trade expanded, the Company persuaded merchants and traders to come and settle near the factory. By 1696, it began building a fort around the settlement. Two years later, it bribed Mughal officials into giving the Company zamindari rights over three villages. One of these was Kalikata, which later grew into the city of Calcutta or Kolkata as it is known today. It also persuaded the Mughal emperor Aurangzeb to issue a farman granting \\nthe Company the right to trade duty free.\\nThe Company tried continuously to press for \\nmore concessions and manipulate existing privileges. Aurangzeb’s farman, for instance, had granted only the \\nCompany the right to trade duty free. But officials of  the Company, who were carrying on private trade on the side, were expected to pay duty. This they refused to pay, causing an enormous loss of revenue for Bengal. How could the Nawab of Bengal, Murshid Quli Khan,  \\nnot protest?\\nFig. 3 – Local boats bring goods from ships in Madras, painted by William Simpson, 1867Farman – A royal edict, a royal order\\nchap 1-4.indd   11 4/22/2022   2:49:27 PMRationalised 2023-24\\n12 OUR PASTS – IIIHow trade led to battles\\nThrough the early eighteenth century, the conflict between \\nthe Company and the nawabs of Bengal intensified.  After the death of Aurangzeb, the Bengal nawabs asserted their power and autonomy, as other regional powers were doing at that time. Murshid Quli Khan was followed by Alivardi Khan and then Sirajuddaulah as the Nawab of Bengal. Each one of them was a strong ruler. They refused to grant the Company concessions, demanded large tributes for the Company’s right to trade, denied it any right to mint coins, and stopped it from extending its fortifications. Accusing the Company of deceit, they claimed that the Company was depriving the Bengal government of huge amounts of revenue and undermining the authority of the nawab. It was refusing to pay taxes, writing disrespectful letters, and trying to humiliate the nawab and his officials. \\nThe Company on its part declared that the unjust \\ndemands of the local officials were ruining the trade of the Company, and trade could flourish only if the duties were removed. It was also convinced that to expand trade, it had to enlarge its settlements, buy up villages, and rebuild its forts.    \\nThe conflicts led to confrontations and finally culminated \\nin the famous Battle of Plassey.\\nThe Battle of Plassey \\nWhen Alivardi Khan died in 1756, Sirajuddaulah became the nawab of Bengal. The Company was worried about his power and keen on a puppet ruler who would  willingly \\ngive trade concessions and other privileges. So it tried, though without success, to help one of Sirajuddaulah’s rivals become the nawab. An infuriated Sirajuddaulah asked the Company to stop meddling in the political affairs of his dominion, stop fortification, and pay the revenues. After negotiations failed, the Nawab marched with 30,000 soldiers to the English factory at Kassimbazar, captured the Company officials, locked the warehouse, disarmed all Englishmen, and blockaded English ships. Then he marched to Calcutta to establish control over the Company’s fort there. \\nOn hearing the news of the fall of Calcutta, \\nCompany officials in Madras sent forces under the command of Robert Clive, reinforced by naval fleets. Prolonged negotiations with the Nawab followed. Finally,  in 1757, Robert Clive led the Company’s army against Sirajuddaulah at Plassey. One of the main reasons for  \\nDid you know?\\nDid you know how Plassey \\ngot its name? Plassey is an anglicised pronunciation  of Palashi and the place derived its name from the palash  tree known for its \\nbeautiful red flowers that yield gulal , the powder \\nused in the festival of Holi.Fig. 4 – Robert Clive \\nPuppet – Literally, a toy \\nthat you can move with strings. The term is used disapprovingly to refer to a person who is controlled by someone else.\\nchap 1-4.indd   12 4/22/2022   2:49:28 PMRationalised 2023-24\\nFROM TRADE TO TERRITORY         13\\nthe defeat of the Nawab was that the forces led by Mir Jafar, one \\nof Sirajuddaulah’s commanders, never fought the battle. Clive had managed to secure his support by promising to make him nawab after crushing Sirajuddaulah. \\nThe Battle of Plassey became famous because it was the first major \\nvictory the Company won in India. Fig. 5 – The General Court Room, East India House, Leadenhall Street\\nThe Court of \\nProprietors of the East India Company had their meetings in the East India House on Leadenhall Street in London. This is a picture of one of their meetings in progress.\\nThe promise of riches\\nThe territorial ambitions of the mercantile East India Company were viewed with distrust and doubt in England. After the Battle of Plassey, Robert Clive wrote to William Pitt, one of the Principal Secretaries of State to the English monarch, on 7\\n January 1759 from Calcutta: \\nBut so large a sovereignty may possibly be an object too extensive for a mercantile Company … I flatter myself … that there will be little or no difficulty in obtaining the absolute possession of these rich kingdoms: ... Now I leave you to judge, whether an income yearly of two million sterling with the possession of three provinces … be an object deserving the public attention ...Source 1\\nFig. 6 –  Sirajuddaulah\\nchap 1-4.indd   13 4/22/2022   2:49:30 PMRationalised 2023-24\\n14 OUR PASTS – III\\nAfter the defeat at Plassey, Sirajuddaulah was \\nassassinated and Mir Jafar made the nawab. The Company \\nwas still unwilling to take over the responsibility of administration. Its prime objective was the expansion of trade. If this could be done without conquest, through the help of local rulers who were willing to grant privileges, then territories need not be taken over directly. \\nSoon the Company discovered that this was rather \\ndifficult. For even the puppet nawabs were not always as helpful as the Company wanted them to be. After all, they had to maintain a basic appearance of dignity and sovereignty if they wanted respect from their subjects. \\nWhat could the Company do? When Mir Jafar \\nprotested, the Company deposed him and installed Mir Qasim in his place. When Mir Qasim complained, he in turn was defeated in a battle fought at Buxar (1764), driven out of Bengal, and Mir Jafar was reinstalled. The Nawab had to pay Rs. 500,000 every month but the Company wanted more money to finance its wars, and meet the demands of trade and its other expenses. It wanted more territories and more revenue. By the time Mir Jafar died in 1765, the mood of the Company had changed. Having failed to work with puppet nawabs, Clive declared: “We must indeed become  \\nnawabs ourselves”.\\nFinally, in 1765 the Mughal emperor appointed the \\nCompany as the Diwan of the provinces of Bengal. The Diwani allowed the Company to use the vast revenue resources of Bengal. This solved a major problem that the Company had earlier faced. From the early eighteenth century, its trade with India had expanded. But it had to buy most of the goods in India with gold and silver imported from Britain. This was because at this time Britain had no goods to sell in India. The outflow of gold from Britain slowed after the Battle of Plassey, and entirely stopped after the assumption of Diwani. Now revenues from India could finance Company expenses. These revenues could be used to purchase cotton and silk textiles in India, maintain Company troops, and meet the cost of building the Company fort and offices at Calcutta.  \\nCompany officials become “nabobs”\\nWhat did it mean to be nawabs? It meant of course that the Company acquired more power and authority. But it also meant something else. Each company servant began to have visions of living like nawabs.Source 2\\nThe Nawab \\ncomplains\\nIn 1733 the Nawab of Bengal said this about the English traders:\\nWhen they first came into the country they petitioned the then government in a humble manner for liberty to purchase a spot of ground to build a factory house upon, which was no sooner granted but they built a strong fort, surrounded it  with a ditch which has communication with the river and mounted a great number of guns upon the walls. They have enticed several merchants and others to go and take protection under them and they collect a revenue which amounts to Rs. 100',\n",
              " ',000… they rob and plunder and carry great number of the king’s subjects of both sexes into slavery into their own country … \\nchap 1-4.indd   14 4/22/2022   2:49:30 PMRationalised 2023-24\\nFROM TRADE TO TERRITORY         15After the Battle of Plassey, the actual nawabs of \\nBengal were forced to give land and vast sums of \\nmoney as personal gifts to Company officials. Robert Clive himself amassed a fortune in India. He had come to Madras (now Chennai) from England in 1743 at the age of 18. When in 1767 he left India, his Indian fortune was worth £401,102. Interestingly, when he was appointed Governor of Bengal in 1764, he was asked to remove corruption in Company administration but he was himself cross-examined in 1772 by the British Parliament which was suspicious of his vast wealth. Although he was acquitted, he committed suicide  \\nin 1774. \\nHowever, not all Company officials succeeded in \\nmaking money like Clive. Many died an early death in India due to disease and war, and it would not be right to regard all of them as corrupt and dishonest. Many of them came from humble backgrounds and their uppermost desire was to earn enough in India, return to Britain and lead a comfortable life. Those who managed to return with wealth led flashy lives and flaunted their riches. They were called  \\n“nabobs” – an anglicised version of the Indian word nawab. They were often seen as upstarts and social climbers in British society and were ridiculed or made fun of in plays and cartoons. \\nCompany Rule Expands\\nIf we analyse the process of annexation of Indian states by the East India Company from 1757 to 1857, certain key aspects emerge. The Company rarely launched a direct military attack on an unknown territory. Instead it used a variety of political, economic and diplomatic methods to extend its influence before annexing an Indian kingdom. \\nAfter the Battle of Buxar (1764), the Company \\nappointed Residents in Indian states. They were political or commercial agents and their job was to serve and further the interests of the Company. Through the Residents, the Company officials began interfering in the internal affairs of Indian states. They tried to decide who was to be the successor to the throne, and who was to be appointed in administrative posts. Sometimes, the Company forced the states into a “subsidiary alliance”. According to the terms of this alliance, Indian rulers were not allowed to have their independent armed forces. They were to be protected by the Company, but \\nHow did Clive \\nsee himself?\\nAt his hearing in front  of a Committee in Parliament, Clive declared that he had shown admirable restraint after the Battle of Plassey. This is what he said:\\nConsider the situation in which the victory at Plassey had placed me! A great prince was dependent on my pleasure; an opulent city lay at my mercy; its richest bankers bid against each other for my smiles; I walked through vaults which were thrown open to me alone, piled on either hand with gold and jewels! Mr Chairman, at this moment I stand astonished at my moderation.Source 3\\nImagine that you are a young Company official  who has been in India for a few months. Write a letter home to your mother telling her about your luxurious life and contrasting it with your earlier life in Britain. Activity\\uf086\\nchap 1-4.indd   15 4/22/2022   2:49:30 PMRationalised 2023-24\\n16 OUR PASTS – III\\nSource 4\\nFig. 7 – Nawab Shujauddaulah  \\nof Awadh, with his sons and the British Resident, painted by Tilly Kettle (oil, 1772)\\nThe treaties that followed the \\nBattle of Buxar forced Nawab Shujauddaulah to give up much of his authority. Here, however, he poses in regal splendour, towering over the Resident.\\nInjunction – Instruction\\nSubservience – \\nSubmissivenesshad to pay for the “subsidiary forces” that the Company was supposed to maintain for the purpose of this protection. If the Indian rulers failed to make the payment, then part of their territory was taken away as penalty. For example, when Richard Wellesley was Governor-General (1798–1805), the Nawab of Awadh was forced to give over half of his territory to the Company in 1801, as he failed to pay for the “subsidiary forces”. Hyderabad was also forced to cede territories on similar grounds.\\nWhat power did the Resident have?\\nThis is what James Mill, the famous economist and political philosopher from Scotland, wrote about the residents appointed by the Company. \\nWe place a resident, who really is king of the country, whatever injunctions of non-interference he may act under. As long as the prince acts in perfect subservience, and does what is agreeable \\nto the residents, that is, to the British Government, things go on quietly; they are managed without the resident appearing much in the administration of affairs … but when anything of a different nature happens, the moment the prince takes a course which the British Government think wrong, then comes clashing and disturbance.\\nJames Mill (1832)\\nTipu Sultan – The “Tiger of Mysore”\\nThe Company resorted to direct military confrontation when it saw a threat to its political or economic interests. This can be illustrated with the case of the southern Indian state of Mysore.\\nMysore had grown in strength under the leadership \\nof powerful rulers like Haidar Ali (ruled from 1761 to 1782) and his famous son Tipu Sultan (ruled from 1782 to 1799). Mysore controlled the profitable trade of the Malabar coast where the Company purchased pepper and cardamom. In 1785, Tipu Sultan stopped the export of sandalwood, pepper and cardamom through the ports of his kingdom, and disallowed local merchants from trading with the Company. He also established a close \\nFig. 8  – Tipu Sultan\\nchap 1-4.indd   16 4/22/2022   2:49:32 PMRationalised 2023-24\\nFROM TRADE TO TERRITORY         17relationship with the French in India, and modernised \\nhis army with their help. \\nThe British were furious. They saw Haidar and Tipu \\nas ambitious, arrogant and dangerous – rulers who had to be controlled and crushed. Four wars were fought with Mysore (1767–69, 1780–84, 1790–92 and 1799). Only in the last – the Battle of Seringapatam – did the Company ultimately win a victory. Tipu Sultan was killed defending his capital Seringapatam, Mysore was placed under the former ruling dynasty of the Wodeyars and a subsidiary alliance was imposed on the state. \\nFig. 10 – Tipu’s toy tiger \\nThis is the picture of a big mechanical toy that Tipu possessed.  \\nYou can see a tiger mauling a European soldier. When its handle was turned, the toy tiger roared and the soldier shrieked. This  toy-tiger is now kept in the Victoria and Albert Museum in London. The British took it away when Tipu Sultan died defending his capital Seringapatam on 4 May 1799.Fig. 9 – Cornwallis receiving the sons of Tipu Sultan as hostages, painted by Daniel Orme, 1793\\nThe Company forces were \\ndefeated by Haidar Ali and Tipu Sultan in several battles. But in 1792, attacked by the combined forces of the Marathas, the Nizam of Hyderabad and the Company, Tipu was forced to sign a treaty with the British by which two of his sons were  taken away as hostages. British painters always liked painting scenes that showed the triumph of  British power.\\nThe legend of Tipu\\nKings are often surrounded \\nby legend and their powers glorified through folklore. Here is a legend about Tipu Sultan who became the ruler of Mysore in 1782. It is said that once he went hunting in the forest with a French friend. There he came face to face with a tiger. His gun did not work and his dagger fell to the ground. He battled with the tiger unarmed until he  managed to reach down and pick up the dagger. Finally, he was able to kill the tiger in the battle. After this, he came to be known as the “Tiger of Mysore”. He had the image of the tiger on his flag. \\nchap 1-4.indd   17 4/22/2022   2:49:34 PMRationalised 2023-24\\n18 OUR PASTS – IIIWar with the Marathas \\nFrom the late eighteenth century, the Company also \\nsought to curb and eventually destroy Maratha power. With their defeat in the Third Battle of Panipat in 1761, the Marathas’ dream of ruling from Delhi was shattered. They were divided into many states under different chiefs (sardars) belonging to dynasties such as Sindhia, Holkar, Gaikwad and Bhonsle. These chiefs were held together in a confederacy  under a Peshwa (Principal Minister) \\nwho became its effective military and administrative head based in Pune. Mahadji Sindhia and Nana Phadnis were two famous Maratha soldiers and statesmen of the late eighteenth century. \\nThe Marathas were subdued in a series of wars. \\nIn the first war that ended in 1782 with the Treaty of Salbai, there was no clear victor. The Second Anglo-Maratha War (1803–05) was fought on different fronts, resulting in the British gaining Orissa and the territories north of the Yamuna river including Agra and Delhi. Finally, the Third Anglo-Maratha War of 1817–19 crushed Maratha power. The Peshwa was removed and sent away to Bithur near Kanpur with a pension. The Company now had complete control over the territories south of the Vindhyas. \\nThe claim to paramountcy\\nIt is clear from the above that from the early nineteenth century, the Company pursued an aggressive policy of territorial expansion. Under Lord Hastings (Governor-General from 1813 to 1823), a new policy of “paramountcy” was initiated. Now the Company claimed that its authority was paramount or supreme, hence its power was greater than that of Indian states. In order to protect its interests, it was justified in annexing or threatening to annex any Indian kingdom. This view continued to guide later British policies as well. \\nThis process, however, did not go unchallenged. For \\nexample, when the British tried to annex the small state of Kitoor (in Karnataka today), Rani Channamma took to arms and led an anti-British resistance movement. She was arrested in 1824 and died in prison in 1829. But Rayanna, a poor chowkidar of Sangoli in Kitoor, \\ncarried on the resistance. With popular support, he destroyed many British camps and records. He was caught and hanged by the British in 1830. You will read more about several cases of resistance later in  \\nthe book.Fig. 11 – Lord Hastings. \\n \\nConfederacy – AllianceActivity\\nImagine that you have   come across two old  newspapers reporting on the Battle of Seringapatam and the death of Tipu Sultan. One is a British paper and the other is from Mysore. Write the headline for each of  the two newspapers.\\uf086\\nFig. 12 – A Statue of the  Queen of \\nKitoor (Karnataka) \\nchap 1-4.indd   18 4/22/2022   2:49:36 PMRationalised 2023-24\\nFROM TRADE TO TERRITORY         19\\nIn the late 1830s, the East India \\nCompany became worried about Russia. \\nIt imagined that Russia might expand across Asia and enter India from the north-west. Driven by this fear, the British now wanted to secure their control over the north-west. They fought a prolonged war with Afghanistan between 1838 and 1842, and established indirect Company rule there. Sind was taken over in 1843. Next in line was Punjab. But the presence of Maharaja Ranjit Singh held back the Company. After his death in 1839, two prolonged wars were fought with the Sikh  kingdom. Ultimately, in 1849, Punjab  \\nwas annexed.\\nThe Doctrine of Lapse\\nThe final wave of annexations occurred under Lord Dalhousie who was the Governor-General from 1848 to 1856. He devised a policy that came to be known as the Doctrine of Lapse. The doctrine declared that if an Indian ruler died without a male heir his kingdom would “lapse”, that is, become a part of Company territory. One kingdom after another was annexed simply by applying this doctrine: Satara (1848), Sambalpur (1850), Udaipur (1852), Nagpur (1853) and  \\nJhansi (1854). \\nFinally, in 1856, the Company also took over Awadh. \\nThis time the British had an added argument – they said they were “obliged by duty” to take over Awadh in order to free the people from the “misgovernment” of the Nawab! Enraged by the humiliating way in which  the Nawab was deposed, the people of Awadh joined the great revolt that broke out in 1857. \\nFig. 13  –',\n",
              " ' Maharaja Ranjit Singh holding court  \\nFig. 14   – A portrait of  Veer \\nSurendra Sai Activity\\nImagine that you are a nawab’s nephew and have been \\nbrought up thinking that you will one day be king. Now you find that this will not be allowed by the British because of the new Doctrine of Lapse. What will be your feelings? What will you plan to do so that you can inherit the crown? \\uf086\\nchap 1-4.indd   19 4/22/2022   2:49:39 PMRationalised 2023-24\\n20 OUR PASTS – III\\nFig. 14 a, b, c – Expansion of British \\nterritorial power in India\\nLook at these maps along with a present-day \\npolitical map of India. In each of these maps, try and identify the different parts of India that were not under British rule. Fig. 14 a – India, 1797 Fig. 14 b – India, 1840\\nFig. 14 c – India, 1857\\nchap 1-4.indd   20 4/22/2022   2:49:40 PMRationalised 2023-24\\nFROM TRADE TO TERRITORY         21Setting up a New Administration\\nWarren Hastings (Governor-General from 1773 to 1785) \\nwas one of the many important figures who played a significant role in the expansion of Company power. By his time the Company had acquired power not only                 in Bengal, but also in Bombay and Madras. British territories were broadly divided into administrative units called Presidencies. There were three Presidencies:  Bengal, Madras and Bombay. Each was ruled by a Governor. The supreme head of the administration was the Governor-General. Warren Hastings, the first Governor-General, introduced several administrative reforms, notably in the sphere of justice. \\nFrom 1772 a new system of justice was established. \\nEach district was to have two courts – a criminal court (faujdari adalat ) and a civil court ( diwani adalat ). Maulvis \\nand Hindu pandits interpreted Indian laws for the European district collectors who presided over civil courts. The criminal courts were still under a qazi and a mufti \\nbut under the supervision of the collectors. Qazi – A judge\\nMufti – A jurist of the \\nMuslim community responsible for expounding the law           that the qazi would administer\\nImpeachment – A trial \\nby the House of Lords           in England for charges of misconduct brought against a person in the House of Commons\\nFig. 15 – The trial of Warren Hastings, painted by R.G. Pollard, 1789\\nWhen Warren Hastings went back to England in 1785, Edmund Burke accused him \\nof being personally responsible for the misgovernment of Bengal. This led to an impeachment proceeding in the British Parliament that lasted seven years. \\nchap 1-4.indd   21 4/22/2022   2:49:42 PMRationalised 2023-24\\n22 OUR PASTS – III\\nA major problem was that the Brahman pandits gave \\ndifferent interpretations of local laws based on different \\nschools of the dharmashastra . To bring about uniformity, \\nin 1775 eleven pandits were asked to compile a digest of Hindu laws. N.B. Halhed translated this digest into English. By 1778, a code of Muslim laws was also compiled for the benefit of European judges. Under the Regulating Act of 1773, a new Supreme Court was established, while a court of appeal – the Sadar Nizamat Adalat – was also set up at Calcutta.\\nThe principal figure in an Indian district was the \\nCollector. As the title suggests, his main job was to collect revenue and taxes and maintain law and order in his district with the help of judges, police officers and darogas . \\nHis office – the Collectorate – became the new centre of power and patronage that steadily replaced previous holders of authority.\\nThe Company army\\nColonial rule in India brought in some new ideas of administration and reform but its power rested on its military strength. The Mughal army was mainly composed of cavalry (sawars: trained soldiers on horseback) and infantry, that is, paidal (foot) soldiers. They were given \\ntraining in archery ( teer-andazi ) and the use of the sword. \\nThe cavalry dominated the army and the Mughal state did not feel the need to have a large professionally trained infantry. The rural areas had a large number of armed peasants and the local zamindars often supplied the Mughals with paidal soldiers.\\nA change occurred in the eighteenth century when \\nMughal successor states like Awadh and Benaras started recruiting peasants into their armies and training them as professional soldiers. The East India Company adopted the same method when it began recruitment for its own army, which came to be known as the sepoy army (from the Indian word sipahi, meaning soldier). \\nAs warfare technology changed from the 1820s, the \\ncavalry requirements of the Company’s army declined. This is because the British empire was fighting in Burma, Afghanistan and Egypt where soldiers were armed with muskets and matchlocks. The soldiers of \\nthe Company’s army had to keep pace with changing military requirements and its infantry regiments now became more important. \\nIn the early nineteenth century, the British began  \\nto develop a uniform military culture. Soldiers were Here is a passage from Edmund Burke’s eloquent opening speech during the impeachment of Warren Hastings:\\nI impeach him in the name of the people of India, whose rights he has trodden under his foot and whose country he has turned into a desert. Lastly in the name of human nature itself, in the name of both the sexes, in the name of every age, in the name of every rank, I impeach the common enemy and oppressor of all.Source 5\\n“I impeach the \\ncommon enemy and \\noppressor of all.”\\nDharmashastras – Sanskrit texts prescribing social rules and codes of behaviour, composed from c. 500 \\nBCE onwards\\nSawar – Men on horses\\nMusket – A heavy gun \\nused by infantry soldiers\\nMatchlock – An early \\ntype of gun in which the powder was ignited by a match\\nchap 1-4.indd   22 4/22/2022   2:49:42 PMRationalised 2023-24\\nFROM TRADE TO TERRITORY         23increasingly subjected to European-style training, drill \\nand discipline that regulated their life far more than before. Often this created problems since caste and community feelings were ignored in building a force of professional soldiers. Could individuals so easily give up their caste and religious feelings? Could they see themselves only as soldiers and not as members of communities? \\nWhat did the sepoys feel? How did they react to the \\nchanges in their lives and their identity – that is, their sense of who they were? The Revolt of 1857 gives us a glimpse into the world of the sepoys. You will read about this revolt in Chapter 5.\\nConclusion\\nThus the East India Company was transformed from a trading company to a territorial colonial power. The arrival of new steam technology in the early nineteenth century also aided this process. Till then it would take anywhere between six and eight months to travel to India by sea. Steamships reduced the journey time to three weeks enabling more Britishers and their families to come to a far-off country like India. \\nBy 1857, the Company came to exercise direct rule \\nover about 63 per cent of the territory and 78 per cent of the population of the Indian subcontinent. Combined with its indirect influence on the remaining territory and population of the country, the East India Company had virtually the whole of India under its control.\\nFig. 16 – A sawar of Bengal in the \\nservice of the Company, painted by an unknown Indian artist, 1780\\nAfter the battles with the \\nMarathas and the Mysore rulers, the Company realised the importance of strengthening its cavalry force. \\nchap 1-4.indd   23 4/22/2022   2:49:43 PMRationalised 2023-24\\n24 OUR PASTS – III\\nLet’s recall\\n1. Match the following:\\nDiwani Tipu Sultan\\n“Tiger of Mysore” right to collect land revenue \\nfaujdari adalat  Sepoy  \\nRani Channamma criminal court\\nsipahi  led an anti-British  \\nmovement in Kitoor \\n2. Fill in the blanks:\\n(a) The British conquest of Bengal began with the \\nBattle of ___________.\\n(b) Haidar Ali and Tipu Sultan were the rulers of  \\n___________.\\n(c) Dalhousie implemented the Doctrine of  \\n___________. \\n(d) Maratha kingdoms were located mainly in the  \\n___________ part of India.\\n3. State whether true or false:\\n(a) The Mughal empire became stronger in the eighteenth century.\\n(b) The English East India Company was the only \\nEuropean company that traded with India.\\n(c) Maharaja Ranjit Singh was the ruler of Punjab.\\n(d) The British did not introduce administrative  \\nchanges in the territories they conquered. Let’s imagine\\nYou are living in \\nEngland in the late eighteenth or early nineteenth century. How would you have reacted to the stories of British conquests? Remember that you would have read about the immense fortunes that many of the officials were making.\\nLet’s discuss\\n4. What attracted European trading companies to \\nIndia?\\n5. What were the areas of conflict between the \\nBengal nawabs and the East India Company?\\nchap 1-4.indd   24 4/22/2022   2:49:46 PMRationalised 2023-24\\nFROM TRADE TO TERRITORY         25\\n6. How did the assumption of Diwani benefit the \\nEast India Company?\\n7. Explain the system of “subsidiary alliance”.\\n8. In what way was the administration of the \\nCompany different from that of Indian rulers?\\n9. Describe the changes that occurred in the  \\ncomposition of the Company’s army.\\nLet’s do\\n10. After the British conquest of Bengal, Calcutta \\ngrew from small village to a big city. Find out about the culture, architecture and the life of Europeans and Indians of the city during the colonial period.\\n11. Collect pictures, stories, poems and information \\nabout any of the following – the Rani of Jhansi, Mahadji Sindhia, Haidar Ali, Maharaja Ranjit Singh, Lord Dalhousie or any other contemporary ruler of your region.\\nchap 1-4.indd   25 4/22/2022   2:49:46 PMRationalised 2023-24\\n']"
            ]
          },
          "metadata": {},
          "execution_count": 38
        }
      ]
    },
    {
      "cell_type": "markdown",
      "source": [
        "# Using Openai by passing passage into gpt-3.5-turbo model, Generating mca questions"
      ],
      "metadata": {
        "id": "yU3VQZ5de90m"
      }
    },
    {
      "cell_type": "code",
      "source": [
        "# mca question generation funtion\n",
        "def get_mca_questions(context):\n",
        "    current_question = [{\"role\": \"system\", \"content\": \"\"\"You are an AI assitant tasked with generating multiple-choice questions (MCQs) by reading the given context. Each MCQ should have 4 options in which 2 options must be the answer for that question and 2 options are unrelated to the question. Your goal is to ensure that the incorrect options appear plausible enough to challenge the test-takers' understanding and reasoning abilities. At the end of each question, please include a tag labeled 'Answers:' followed by the correct answer options for that particular question.\n",
        "    Generate the Multiple Choice question as per Given Example format.\n",
        "    Each questions must have two answers.\n",
        "    Example:\n",
        "    Question 1: Which of the following planets in our solar system have rings?\n",
        "    A) Mercury\n",
        "    B) Venus\n",
        "    C) Saturn\n",
        "    D) Mars\n",
        "    Correct Answers: C) Saturn and D) Mars\n",
        "    Multiple-choice-questions: \"\"\" },\n",
        "    {\"role\": \"user\", \"content\": f\"{context}\"}]\n",
        "\n",
        "    response = openai.ChatCompletion.create(\n",
        "        model=\"gpt-3.5-turbo\",\n",
        "        messages=current_question, temperature=0.0) # temperature(0.0) will generate same question and answer\n",
        "    res = response['choices'][0]['message']['content']\n",
        "    questions = res.split('\\\\n\\\\n')\n",
        "    return questions"
      ],
      "metadata": {
        "id": "56XeNFQmvfu6"
      },
      "execution_count": null,
      "outputs": []
    },
    {
      "cell_type": "code",
      "source": [
        "# Function calling and appending the mca_questions into a single list\n",
        "mcq=[]\n",
        "for i in text_chunks:\n",
        "  context = i\n",
        "  response = get_mca_questions(context)\n",
        "  mcq.extend(response)\n"
      ],
      "metadata": {
        "id": "YBx6CMsX2mtH"
      },
      "execution_count": null,
      "outputs": []
    },
    {
      "cell_type": "code",
      "source": [
        "# Printing the mca questions\n",
        "for i in mcq:\n",
        "  print(i)"
      ],
      "metadata": {
        "colab": {
          "base_uri": "https://localhost:8080/"
        },
        "id": "V8UlKPbE7QpH",
        "outputId": "519da70c-1a0a-463e-ac81-9c724758c04e"
      },
      "execution_count": null,
      "outputs": [
        {
          "output_type": "stream",
          "name": "stdout",
          "text": [
            "Question 1: Who was the last powerful Mughal ruler?\n",
            "A) Bahadur Shah Zafar\n",
            "B) Aurangzeb\n",
            "C) Alivardi Khan\n",
            "D) Sirajuddaulah\n",
            "Answers: B) Aurangzeb and A) Bahadur Shah Zafar\n",
            "\n",
            "Question 2: Which European power had already established its presence in the western coast of India before the arrival of the British?\n",
            "A) Dutch\n",
            "B) French\n",
            "C) Portuguese\n",
            "D) Spanish\n",
            "Answers: C) Portuguese and A) Dutch\n",
            "\n",
            "Question 3: What was the main reason for the Battle of Plassey?\n",
            "A) To establish control over the Company's fort in Calcutta\n",
            "B) To secure trade concessions and other privileges from the nawab\n",
            "C) To defeat the forces led by Mir Jafar\n",
            "D) To expand the Company's settlements and fortifications\n",
            "Answers: B) To secure trade concessions and other privileges from the nawab and C) To defeat the forces led by Mir Jafar\n",
            "\n",
            "Question 4: What did the Company become after being appointed as the Diwan of the provinces of Bengal?\n",
            "A) Nawabs\n",
            "B) Rulers\n",
            "C) Merchants\n",
            "D) Diwans\n",
            "Answers: D) Diwans and B) Rulers\n",
            "\n",
            "Question 5: What did it mean for the Company officials to live like nawabs?\n",
            "A) To acquire more power and authority\n",
            "B) To have visions of living a luxurious lifestyle\n",
            "C) To become puppet rulers\n",
            "D) To gain the support of local rulers\n",
            "Answers: B) To have visions of living a luxurious lifestyle and A) To acquire more power and authority\n",
            "Question 1: What was the policy adopted by the East India Company to annex Indian kingdoms?\n",
            "A) Direct military attack\n",
            "B) Political interference\n",
            "C) Economic domination\n",
            "D) Diplomatic negotiations\n",
            "Answers: A) Direct military attack and B) Political interference\n",
            "Question 1: What was the new Doctrine introduced by the British that prevented the nawab's nephew from inheriting the crown?\n",
            "A) Doctrine of Unity\n",
            "B) Doctrine of Equality\n",
            "C) Doctrine of Lapse\n",
            "D) Doctrine of Succession\n",
            "Answers: C) Doctrine of Lapse\n",
            "\n",
            "Question 2: Who was the first Governor-General of the British territories in India?\n",
            "A) Warren Hastings\n",
            "B) Edmund Burke\n",
            "C) R.G. Pollard\n",
            "D) Veer Surendra Sai\n",
            "Answers: A) Warren Hastings\n",
            "\n",
            "Question 3: What was the new system of justice established by Warren Hastings in 1772?\n",
            "A) Criminal court and civil court\n",
            "B) Supreme Court and court of appeal\n",
            "C) District court and high court\n",
            "D) Qazi court and mufti court\n",
            "Answers: A) Criminal court and civil court\n",
            "\n",
            "Question 4: What was the main job of the Collector in an Indian district under British rule?\n",
            "A) Collecting revenue and taxes\n",
            "B) Maintaining law and order\n",
            "C) Providing justice\n",
            "D) Enforcing regulations\n",
            "Answers: A) Collecting revenue and taxes\n",
            "\n",
            "Question 5: What was the name given to the British army in India?\n",
            "A) Mughal army\n",
            "B) Sepoy army\n",
            "C) Company army\n",
            "D) Bengal army\n",
            "Answers: B) Sepoy army and C) Company army\n"
          ]
        }
      ]
    },
    {
      "cell_type": "markdown",
      "source": [
        "# Using Google PaLM PAI by passing whole passage into text-bison model, Generating mca questions"
      ],
      "metadata": {
        "id": "-UsMmsZ48Nqr"
      }
    },
    {
      "cell_type": "code",
      "source": [
        "def get_mca_questions_1(passage):\n",
        "    prompt = f\"\"\"You are an AI assitant tasked with generating multiple-choice questions (MCQs) by reading the given context.\n",
        "    Generate the Multiple Choice question as per Given Example format.\n",
        "    Each question must have two answers.\n",
        "    Example:\n",
        "    Question 1: Which of the following planets in our solar system have rings?\n",
        "    A) Mercury\n",
        "    B) Venus\n",
        "    C) Saturn\n",
        "    D) Mars\n",
        "    Correct Answers: C) Saturn and D) Mars\n",
        "    context : {passage}, Multiple-choice-questions: \"\"\"\n",
        "    completion = palm.generate_text(\n",
        "    model= \"models/text-bison-001\",\n",
        "    prompt=prompt,\n",
        "    temperature=0.0,\n",
        "    max_output_tokens=1024,\n",
        ")\n",
        "\n",
        "    res = completion.candidates[0]['output']\n",
        "    question = res.split('\\n')\n",
        "    return question"
      ],
      "metadata": {
        "id": "yMvXB-Jz7qne"
      },
      "execution_count": null,
      "outputs": []
    },
    {
      "cell_type": "code",
      "source": [
        "res = get_mca_questions_1(content)\n",
        "res"
      ],
      "metadata": {
        "colab": {
          "base_uri": "https://localhost:8080/"
        },
        "id": "558JsZwR_fLX",
        "outputId": "3b15905b-2678-4e7a-ebcf-460668bf4d29"
      },
      "execution_count": null,
      "outputs": [
        {
          "output_type": "execute_result",
          "data": {
            "text/plain": [
              "['1. The East India Company was transformed from a trading company to a territorial colonial power because:',\n",
              " '(a) it was able to defeat the Marathas.',\n",
              " '(b) it was able to defeat the Mughals.',\n",
              " '(c) it was able to defeat the Sikhs.',\n",
              " '(d) all of the above.',\n",
              " '2. The Doctrine of Lapse was implemented by:',\n",
              " '(a) Warren Hastings.',\n",
              " '(b) Lord Dalhousie.',\n",
              " '(c) Lord Cornwallis.',\n",
              " '(d) Lord Wellesley.',\n",
              " '3. The Company army was composed of:',\n",
              " '(a) cavalry and infantry.',\n",
              " '(b) cavalry and paidal soldiers.',\n",
              " '(c) cavalry and sepoys.',\n",
              " '(d) all of the above.',\n",
              " '4. The British began to develop a uniform military culture in the:',\n",
              " '(a) early nineteenth century.',\n",
              " '(b) late eighteenth century.',\n",
              " '(c) early twentieth century.',\n",
              " '(d) late nineteenth century.',\n",
              " '5. The East India Company came to exercise direct rule over about 63 per cent of the territory and 78 per cent of the population of the Indian subcontinent by:',\n",
              " '(a) 1857.',\n",
              " '(b) 1858.',\n",
              " '(c) 1859.',\n",
              " '(d) 1860.']"
            ]
          },
          "metadata": {},
          "execution_count": 78
        }
      ]
    },
    {
      "cell_type": "markdown",
      "source": [
        "# Using Google PaLM PAI by passing whole passage into chat-bison model, Generating mca questions"
      ],
      "metadata": {
        "id": "L3AUam80ekdC"
      }
    },
    {
      "cell_type": "code",
      "source": [
        "def get_mca_questions_2(passage):\n",
        "    prompt = f\"\"\"You are an AI assitant tasked with generating multiple-choice questions (MCQs) by reading the given context.\n",
        "    Generate the Multiple Choice question as per Given Example format.\n",
        "    Each question must have two answers.\n",
        "    Example:\n",
        "    Question 1: Which of the following planets in our solar system have rings?\n",
        "    A) Mercury\n",
        "    B) Venus\n",
        "    C) Saturn\n",
        "    D) Mars\n",
        "    Correct Answers: C) Saturn and D) Mars\n",
        "    context : {passage}, Multiple-choice-questions: \"\"\"\n",
        "    completion = palm.chat(\n",
        "    model= \"models/chat-bison-001\",\n",
        "    messages=prompt,\n",
        "    temperature =0.0,\n",
        ")\n",
        "\n",
        "    return (completion)"
      ],
      "metadata": {
        "id": "2SHkWx6__fGL"
      },
      "execution_count": null,
      "outputs": []
    },
    {
      "cell_type": "code",
      "source": [
        "for i in text_chunks:\n",
        "  context=i\n",
        "  response = get_mca_questions_2(context)\n",
        "  print(response.last)"
      ],
      "metadata": {
        "colab": {
          "base_uri": "https://localhost:8080/"
        },
        "id": "cHZ8i3iv-s2L",
        "outputId": "733501f0-e98a-4808-9eb8-d718bf000411"
      },
      "execution_count": null,
      "outputs": [
        {
          "output_type": "stream",
          "name": "stdout",
          "text": [
            "1. The East India Company was granted a charter by Queen Elizabeth I in:\n",
            "    * 1600\n",
            "    * 1651\n",
            "    * 1757\n",
            "    * 1765\n",
            "\n",
            "2. The East India Company's first factory in India was set up in:\n",
            "    * Surat\n",
            "    * Masulipatnam\n",
            "    * Hugli\n",
            "    * Madras\n",
            "\n",
            "3. The Battle of Plassey was fought between the East India Company and the Nawab of Bengal in:\n",
            "    * 1756\n",
            "    * 1757\n",
            "    * 1764\n",
            "    * 1765\n",
            "\n",
            "4. The Battle of Plassey was a turning point in the history of British India because it:\n",
            "    * marked the beginning of British rule in India\n",
            "    * led to the establishment of the East India Company as a major power in India\n",
            "    * gave the East India Company control of the province of Bengal\n",
            "    * all of the above\n",
            "\n",
            "5. The East India Company became the Diwan of the provinces of Bengal in:\n",
            "    * 1757\n",
            "    * 1764\n",
            "    * 1765\n",
            "    * 1772\n",
            "\n",
            "6. The Diwani allowed the East India Company to:\n",
            "    * collect taxes in Bengal\n",
            "    * administer the provinces of Bengal\n",
            "    * both of the above\n",
            "    * none of the above\n",
            "\n",
            "7. The assumption of the Diwani by the East India Company led to:\n",
            "    * the outflow of gold from Britain slowing down\n",
            "    * the Company officials becoming \"nabobs\"\n",
            "    * both of the above\n",
            "    * none of the above\n",
            "\n",
            "8. The Nawab of Bengal complained in 1733 that the English traders:\n",
            "    * had built a strong fort without permission\n",
            "    * had enticed several merchants and others to take protection under them\n",
            "    * had collected a revenue of Rs. 100,000\n",
            "    * all of the above\n",
            "\n",
            "9. The East India Company was a:\n",
            "    * trading company\n",
            "    * political power\n",
            "    * both of the above\n",
            "    * none of the above\n",
            "\n",
            "10. The East India Company's expansion in India was driven by:\n",
            "    * the desire to make profits\n",
            "    * the desire to acquire territory\n",
            "    * both of the above\n",
            "    * none of the above\n",
            "1. Which of the following is NOT a reason why the British East India Company was able to expand its power in India?\n",
            "(A) The Company had a strong military.\n",
            "(B) The Company was able to play Indian rulers against each other.\n",
            "(C) The Company was able to take advantage of the decline of the Mughal Empire.\n",
            "(D) The Company was able to bribe Indian officials.\n",
            "\n",
            "2. The Doctrine of Lapse was a policy that was used by the British East India Company to:\n",
            "(A) Annex Indian kingdoms that did not have a male heir.\n",
            "(B) Force Indian rulers to sign treaties that gave the Company control over their armies.\n",
            "(C) Impose taxes on Indian merchants.\n",
            "(D) Require Indian rulers to allow the Company to build factories in their kingdoms.\n",
            "\n",
            "3. The Battle of Plassey was a turning point in the history of British rule in India because it:\n",
            "(A) Led to the British taking control of Bengal.\n",
            "(B) Allowed the British to establish a permanent presence in India.\n",
            "(C) Destroyed the power of the Mughal Empire.\n",
            "(D) All of the above.\n",
            "\n",
            "4. The Indian Rebellion of 1857 was a major uprising against British rule in India. The rebellion was led by:\n",
            "(A) The Mughal emperor.\n",
            "(B) The Maratha chiefs.\n",
            "(C) The Sikh warriors.\n",
            "(D) The sepoys (Indian soldiers in the Company's army).\n",
            "\n",
            "5. The Indian Rebellion of 1857 was ultimately unsuccessful, but it had a significant impact on the history of British rule in India. One of the most important consequences of the rebellion was that:\n",
            "(A) The British government took direct control of India from the Company.\n",
            "(B) The British abolished the practice of sati (widow burning).\n",
            "(C) The British introduced a number of reforms to improve the lives of Indians.\n",
            "(D) All of the above.\n",
            "1. The British conquest of Bengal began with the Battle of Plassey in 1757.\n",
            "2. Haidar Ali and Tipu Sultan were the rulers of Mysore.\n",
            "3. Dalhousie implemented the Doctrine of Lapse.\n",
            "4. Maratha kingdoms were located mainly in the Deccan part of India.\n",
            "5. The Mughal empire declined in the eighteenth century.\n",
            "6. The English East India Company was not the only European company that traded with India. The Dutch, French, and Portuguese also had trading companies in India.\n",
            "7. Maharaja Ranjit Singh was the ruler of Punjab.\n",
            "8. The British did introduce administrative changes in the territories they conquered. They set up a new system of administration, based on the British model.\n",
            "9. The composition of the Company's army changed over time. In the early days, the army was made up of Indian soldiers, but later, more and more British soldiers were recruited.\n",
            "10. After the British conquest of Bengal, Calcutta grew from a small village to a big city. The city became a major center of trade and commerce.\n",
            "11. The Rani of Jhansi was a queen who fought against the British in the Indian Rebellion of 1857. Mahadji Sindhia was a Maratha general who helped the British defeat the Mughals. Haidar Ali and Tipu Sultan were the rulers of Mysore who fought against the British. Maharaja Ranjit Singh was the ruler of Punjab who fought against the British. Lord Dalhousie was a British governor-general who implemented the Doctrine of Lapse.\n",
            "\n",
            "Here are some additional questions:\n",
            "\n",
            "12. What were the main reasons for the British conquest of Bengal?\n",
            "13. What were the effects of the British conquest of Bengal on the Indian people?\n",
            "14. What were the main features of the British administration in India?\n",
            "15. What were the main achievements of the British in India?\n",
            "16. What were the main criticisms of British rule in India?\n",
            "17. What were the main events of the Indian Rebellion of 1857?\n",
            "18. What were the causes of the Indian Rebellion of 1857?\n",
            "19. What were the effects of the Indian Rebellion of 1857?\n",
            "20. What were the main features of British rule in India after the Indian Rebellion of 1857?\n"
          ]
        }
      ]
    },
    {
      "cell_type": "markdown",
      "source": [
        "# Conclusion:\n",
        "\n",
        "* Automatically generate objective queries with multiple valid responses from a designated chapter within a specific subject. The creation of multiple-choice questions relies on a sophisticated language model's capacity to comprehend the content and produce inquiries. I explored three different approaches to question generation:\n",
        "\n",
        "* OpenAI's GPT-3.5 Turbo model\n",
        "* Google's Palm PAI with text-bison\n",
        "* Google's Chat PAI with text-bison\n",
        "\n",
        "* Among these three models, the OpenAI GPT-3.5 Turbo model consistently delivered the most impressive results."
      ],
      "metadata": {
        "id": "IfNztQJpfeYB"
      }
    }
  ]
}